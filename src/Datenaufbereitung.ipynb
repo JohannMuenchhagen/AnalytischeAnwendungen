{
 "cells": [
  {
   "cell_type": "code",
   "execution_count": 1,
   "id": "initial_id",
   "metadata": {
    "collapsed": true,
    "ExecuteTime": {
     "end_time": "2024-05-18T12:45:40.864242Z",
     "start_time": "2024-05-18T12:45:36.947834Z"
    }
   },
   "outputs": [],
   "source": [
    "import pandas as pd"
   ]
  },
  {
   "cell_type": "code",
   "outputs": [
    {
     "name": "stderr",
     "output_type": "stream",
     "text": [
      "/var/folders/9g/6s6jvkk926149cqngqhhk7zh0000gn/T/ipykernel_6559/3551924139.py:1: DtypeWarning: Columns (7,44) have mixed types. Specify dtype option on import or set low_memory=False.\n",
      "  raw_data = pd.read_csv(\"../data/fuel.csv\")\n"
     ]
    }
   ],
   "source": [
    "raw_data = pd.read_csv(\"../data/fuel.csv\")"
   ],
   "metadata": {
    "collapsed": false,
    "ExecuteTime": {
     "end_time": "2024-05-18T13:22:43.752570Z",
     "start_time": "2024-05-18T13:22:43.117091Z"
    }
   },
   "id": "6aa1cf06ee43e0e3",
   "execution_count": 25
  },
  {
   "cell_type": "code",
   "outputs": [
    {
     "data": {
      "text/plain": "       vehicle_id  year        make               model  \\\n0           26587  1984  Alfa Romeo           GT V6 2.5   \n1           27705  1984  Alfa Romeo           GT V6 2.5   \n2           26561  1984  Alfa Romeo  Spider Veloce 2000   \n3           27681  1984  Alfa Romeo  Spider Veloce 2000   \n4           27550  1984  AM General   DJ Po Vehicle 2WD   \n...           ...   ...         ...                 ...   \n38108       37564  2017       Volvo            XC60 FWD   \n38109       37547  2017       Volvo            XC90 AWD   \n38110       37548  2017       Volvo            XC90 AWD   \n38111       37703  2017       Volvo       XC90 AWD PHEV   \n38112       37687  2017       Volvo            XC90 FWD   \n\n                                    class              drive  \\\n0                        Minicompact Cars                NaN   \n1                        Minicompact Cars                NaN   \n2                             Two Seaters                NaN   \n3                             Two Seaters                NaN   \n4             Special Purpose Vehicle 2WD      2-Wheel Drive   \n...                                   ...                ...   \n38108     Small Sport Utility Vehicle 2WD  Front-Wheel Drive   \n38109  Standard Sport Utility Vehicle 4WD    All-Wheel Drive   \n38110  Standard Sport Utility Vehicle 4WD    All-Wheel Drive   \n38111  Standard Sport Utility Vehicle 4WD    All-Wheel Drive   \n38112  Standard Sport Utility Vehicle 2WD  Front-Wheel Drive   \n\n            transmission transmission_type  engine_index engine_descriptor  \\\n0         Manual 5-Speed               NaN          9001             (FFS)   \n1         Manual 5-Speed               NaN          9005    (FFS) CA model   \n2         Manual 5-Speed               NaN          9002             (FFS)   \n3         Manual 5-Speed               NaN          9006    (FFS) CA model   \n4      Automatic 3-Speed               NaN          1830             (FFS)   \n...                  ...               ...           ...               ...   \n38108     Automatic (S8)               NaN            90              SIDI   \n38109     Automatic (S8)               NaN            52              SIDI   \n38110     Automatic (S8)               NaN            53              SIDI   \n38111     Automatic (S8)               NaN            54        SIDI; PHEV   \n38112     Automatic (S8)               NaN            50              SIDI   \n\n       ...  hours_to_charge_ac_240v  composite_city_mpg composite_highway_mpg  \\\n0      ...                      0.0                   0                     0   \n1      ...                      0.0                   0                     0   \n2      ...                      0.0                   0                     0   \n3      ...                      0.0                   0                     0   \n4      ...                      0.0                   0                     0   \n...    ...                      ...                 ...                   ...   \n38108  ...                      0.0                   0                     0   \n38109  ...                      0.0                   0                     0   \n38110  ...                      0.0                   0                     0   \n38111  ...                      0.0                  29                    32   \n38112  ...                      0.0                   0                     0   \n\n       composite_combined_mpg range_ft1 city_range_ft1  highway_range_ft1  \\\n0                           0         0            0.0                0.0   \n1                           0         0            0.0                0.0   \n2                           0         0            0.0                0.0   \n3                           0         0            0.0                0.0   \n4                           0         0            0.0                0.0   \n...                       ...       ...            ...                ...   \n38108                       0         0            0.0                0.0   \n38109                       0         0            0.0                0.0   \n38110                       0         0            0.0                0.0   \n38111                      30         0            0.0                0.0   \n38112                       0         0            0.0                0.0   \n\n       range_ft2  city_range_ft2  highway_range_ft2  \n0            NaN            0.00                0.0  \n1            NaN            0.00                0.0  \n2            NaN            0.00                0.0  \n3            NaN            0.00                0.0  \n4            NaN            0.00                0.0  \n...          ...             ...                ...  \n38108        NaN            0.00                0.0  \n38109        NaN            0.00                0.0  \n38110        NaN            0.00                0.0  \n38111        NaN           13.84               13.3  \n38112        NaN            0.00                0.0  \n\n[38113 rows x 81 columns]",
      "text/html": "<div>\n<style scoped>\n    .dataframe tbody tr th:only-of-type {\n        vertical-align: middle;\n    }\n\n    .dataframe tbody tr th {\n        vertical-align: top;\n    }\n\n    .dataframe thead th {\n        text-align: right;\n    }\n</style>\n<table border=\"1\" class=\"dataframe\">\n  <thead>\n    <tr style=\"text-align: right;\">\n      <th></th>\n      <th>vehicle_id</th>\n      <th>year</th>\n      <th>make</th>\n      <th>model</th>\n      <th>class</th>\n      <th>drive</th>\n      <th>transmission</th>\n      <th>transmission_type</th>\n      <th>engine_index</th>\n      <th>engine_descriptor</th>\n      <th>...</th>\n      <th>hours_to_charge_ac_240v</th>\n      <th>composite_city_mpg</th>\n      <th>composite_highway_mpg</th>\n      <th>composite_combined_mpg</th>\n      <th>range_ft1</th>\n      <th>city_range_ft1</th>\n      <th>highway_range_ft1</th>\n      <th>range_ft2</th>\n      <th>city_range_ft2</th>\n      <th>highway_range_ft2</th>\n    </tr>\n  </thead>\n  <tbody>\n    <tr>\n      <th>0</th>\n      <td>26587</td>\n      <td>1984</td>\n      <td>Alfa Romeo</td>\n      <td>GT V6 2.5</td>\n      <td>Minicompact Cars</td>\n      <td>NaN</td>\n      <td>Manual 5-Speed</td>\n      <td>NaN</td>\n      <td>9001</td>\n      <td>(FFS)</td>\n      <td>...</td>\n      <td>0.0</td>\n      <td>0</td>\n      <td>0</td>\n      <td>0</td>\n      <td>0</td>\n      <td>0.0</td>\n      <td>0.0</td>\n      <td>NaN</td>\n      <td>0.00</td>\n      <td>0.0</td>\n    </tr>\n    <tr>\n      <th>1</th>\n      <td>27705</td>\n      <td>1984</td>\n      <td>Alfa Romeo</td>\n      <td>GT V6 2.5</td>\n      <td>Minicompact Cars</td>\n      <td>NaN</td>\n      <td>Manual 5-Speed</td>\n      <td>NaN</td>\n      <td>9005</td>\n      <td>(FFS) CA model</td>\n      <td>...</td>\n      <td>0.0</td>\n      <td>0</td>\n      <td>0</td>\n      <td>0</td>\n      <td>0</td>\n      <td>0.0</td>\n      <td>0.0</td>\n      <td>NaN</td>\n      <td>0.00</td>\n      <td>0.0</td>\n    </tr>\n    <tr>\n      <th>2</th>\n      <td>26561</td>\n      <td>1984</td>\n      <td>Alfa Romeo</td>\n      <td>Spider Veloce 2000</td>\n      <td>Two Seaters</td>\n      <td>NaN</td>\n      <td>Manual 5-Speed</td>\n      <td>NaN</td>\n      <td>9002</td>\n      <td>(FFS)</td>\n      <td>...</td>\n      <td>0.0</td>\n      <td>0</td>\n      <td>0</td>\n      <td>0</td>\n      <td>0</td>\n      <td>0.0</td>\n      <td>0.0</td>\n      <td>NaN</td>\n      <td>0.00</td>\n      <td>0.0</td>\n    </tr>\n    <tr>\n      <th>3</th>\n      <td>27681</td>\n      <td>1984</td>\n      <td>Alfa Romeo</td>\n      <td>Spider Veloce 2000</td>\n      <td>Two Seaters</td>\n      <td>NaN</td>\n      <td>Manual 5-Speed</td>\n      <td>NaN</td>\n      <td>9006</td>\n      <td>(FFS) CA model</td>\n      <td>...</td>\n      <td>0.0</td>\n      <td>0</td>\n      <td>0</td>\n      <td>0</td>\n      <td>0</td>\n      <td>0.0</td>\n      <td>0.0</td>\n      <td>NaN</td>\n      <td>0.00</td>\n      <td>0.0</td>\n    </tr>\n    <tr>\n      <th>4</th>\n      <td>27550</td>\n      <td>1984</td>\n      <td>AM General</td>\n      <td>DJ Po Vehicle 2WD</td>\n      <td>Special Purpose Vehicle 2WD</td>\n      <td>2-Wheel Drive</td>\n      <td>Automatic 3-Speed</td>\n      <td>NaN</td>\n      <td>1830</td>\n      <td>(FFS)</td>\n      <td>...</td>\n      <td>0.0</td>\n      <td>0</td>\n      <td>0</td>\n      <td>0</td>\n      <td>0</td>\n      <td>0.0</td>\n      <td>0.0</td>\n      <td>NaN</td>\n      <td>0.00</td>\n      <td>0.0</td>\n    </tr>\n    <tr>\n      <th>...</th>\n      <td>...</td>\n      <td>...</td>\n      <td>...</td>\n      <td>...</td>\n      <td>...</td>\n      <td>...</td>\n      <td>...</td>\n      <td>...</td>\n      <td>...</td>\n      <td>...</td>\n      <td>...</td>\n      <td>...</td>\n      <td>...</td>\n      <td>...</td>\n      <td>...</td>\n      <td>...</td>\n      <td>...</td>\n      <td>...</td>\n      <td>...</td>\n      <td>...</td>\n      <td>...</td>\n    </tr>\n    <tr>\n      <th>38108</th>\n      <td>37564</td>\n      <td>2017</td>\n      <td>Volvo</td>\n      <td>XC60 FWD</td>\n      <td>Small Sport Utility Vehicle 2WD</td>\n      <td>Front-Wheel Drive</td>\n      <td>Automatic (S8)</td>\n      <td>NaN</td>\n      <td>90</td>\n      <td>SIDI</td>\n      <td>...</td>\n      <td>0.0</td>\n      <td>0</td>\n      <td>0</td>\n      <td>0</td>\n      <td>0</td>\n      <td>0.0</td>\n      <td>0.0</td>\n      <td>NaN</td>\n      <td>0.00</td>\n      <td>0.0</td>\n    </tr>\n    <tr>\n      <th>38109</th>\n      <td>37547</td>\n      <td>2017</td>\n      <td>Volvo</td>\n      <td>XC90 AWD</td>\n      <td>Standard Sport Utility Vehicle 4WD</td>\n      <td>All-Wheel Drive</td>\n      <td>Automatic (S8)</td>\n      <td>NaN</td>\n      <td>52</td>\n      <td>SIDI</td>\n      <td>...</td>\n      <td>0.0</td>\n      <td>0</td>\n      <td>0</td>\n      <td>0</td>\n      <td>0</td>\n      <td>0.0</td>\n      <td>0.0</td>\n      <td>NaN</td>\n      <td>0.00</td>\n      <td>0.0</td>\n    </tr>\n    <tr>\n      <th>38110</th>\n      <td>37548</td>\n      <td>2017</td>\n      <td>Volvo</td>\n      <td>XC90 AWD</td>\n      <td>Standard Sport Utility Vehicle 4WD</td>\n      <td>All-Wheel Drive</td>\n      <td>Automatic (S8)</td>\n      <td>NaN</td>\n      <td>53</td>\n      <td>SIDI</td>\n      <td>...</td>\n      <td>0.0</td>\n      <td>0</td>\n      <td>0</td>\n      <td>0</td>\n      <td>0</td>\n      <td>0.0</td>\n      <td>0.0</td>\n      <td>NaN</td>\n      <td>0.00</td>\n      <td>0.0</td>\n    </tr>\n    <tr>\n      <th>38111</th>\n      <td>37703</td>\n      <td>2017</td>\n      <td>Volvo</td>\n      <td>XC90 AWD PHEV</td>\n      <td>Standard Sport Utility Vehicle 4WD</td>\n      <td>All-Wheel Drive</td>\n      <td>Automatic (S8)</td>\n      <td>NaN</td>\n      <td>54</td>\n      <td>SIDI; PHEV</td>\n      <td>...</td>\n      <td>0.0</td>\n      <td>29</td>\n      <td>32</td>\n      <td>30</td>\n      <td>0</td>\n      <td>0.0</td>\n      <td>0.0</td>\n      <td>NaN</td>\n      <td>13.84</td>\n      <td>13.3</td>\n    </tr>\n    <tr>\n      <th>38112</th>\n      <td>37687</td>\n      <td>2017</td>\n      <td>Volvo</td>\n      <td>XC90 FWD</td>\n      <td>Standard Sport Utility Vehicle 2WD</td>\n      <td>Front-Wheel Drive</td>\n      <td>Automatic (S8)</td>\n      <td>NaN</td>\n      <td>50</td>\n      <td>SIDI</td>\n      <td>...</td>\n      <td>0.0</td>\n      <td>0</td>\n      <td>0</td>\n      <td>0</td>\n      <td>0</td>\n      <td>0.0</td>\n      <td>0.0</td>\n      <td>NaN</td>\n      <td>0.00</td>\n      <td>0.0</td>\n    </tr>\n  </tbody>\n</table>\n<p>38113 rows × 81 columns</p>\n</div>"
     },
     "execution_count": 8,
     "metadata": {},
     "output_type": "execute_result"
    }
   ],
   "source": [
    "raw_data"
   ],
   "metadata": {
    "collapsed": false,
    "ExecuteTime": {
     "end_time": "2024-05-18T12:48:33.384945Z",
     "start_time": "2024-05-18T12:48:33.330605Z"
    }
   },
   "id": "2b5df724deecaeea",
   "execution_count": 8
  },
  {
   "cell_type": "code",
   "outputs": [
    {
     "name": "stdout",
     "output_type": "stream",
     "text": [
      "<class 'pandas.core.frame.DataFrame'>\n",
      "RangeIndex: 38113 entries, 0 to 38112\n",
      "Data columns (total 81 columns):\n",
      " #   Column                             Non-Null Count  Dtype  \n",
      "---  ------                             --------------  -----  \n",
      " 0   vehicle_id                         38113 non-null  int64  \n",
      " 1   year                               38113 non-null  int64  \n",
      " 2   make                               38113 non-null  object \n",
      " 3   model                              38113 non-null  object \n",
      " 4   class                              38113 non-null  object \n",
      " 5   drive                              36924 non-null  object \n",
      " 6   transmission                       38102 non-null  object \n",
      " 7   transmission_type                  15045 non-null  object \n",
      " 8   engine_index                       38113 non-null  int64  \n",
      " 9   engine_descriptor                  22693 non-null  object \n",
      " 10  engine_cylinders                   37977 non-null  float64\n",
      " 11  engine_displacement                37979 non-null  float64\n",
      " 12  turbocharger                       5239 non-null   object \n",
      " 13  supercharger                       0 non-null      float64\n",
      " 14  fuel_type                          38113 non-null  object \n",
      " 15  fuel_type_1                        38113 non-null  object \n",
      " 16  fuel_type_2                        0 non-null      float64\n",
      " 17  city_mpg_ft1                       38113 non-null  int64  \n",
      " 18  unrounded_city_mpg_ft1             38113 non-null  float64\n",
      " 19  city_mpg_ft2                       38113 non-null  int64  \n",
      " 20  unrounded_city_mpg_ft2             38113 non-null  float64\n",
      " 21  city_gasoline_consumption_cd       38113 non-null  float64\n",
      " 22  city_electricity_consumption       38113 non-null  float64\n",
      " 23  city_utility_factor                38113 non-null  float64\n",
      " 24  highway_mpg_ft1                    38113 non-null  int64  \n",
      " 25  unrounded_highway_mpg_ft1          38113 non-null  float64\n",
      " 26  highway_mpg_ft2                    38113 non-null  int64  \n",
      " 27  unrounded_highway_mpg_ft2          38113 non-null  float64\n",
      " 28  highway_gasoline_consumption_cd    38113 non-null  float64\n",
      " 29  highway_electricity_consumption    38113 non-null  float64\n",
      " 30  highway_utility_factor             38113 non-null  float64\n",
      " 31  unadjusted_city_mpg_ft1            38113 non-null  float64\n",
      " 32  unadjusted_highway_mpg_ft1         38113 non-null  float64\n",
      " 33  unadjusted_city_mpg_ft2            38113 non-null  float64\n",
      " 34  unadjusted_highway_mpg_ft2         38113 non-null  float64\n",
      " 35  combined_mpg_ft1                   38113 non-null  int64  \n",
      " 36  unrounded_combined_mpg_ft1         38113 non-null  float64\n",
      " 37  combined_mpg_ft2                   38113 non-null  int64  \n",
      " 38  unrounded_combined_mpg_ft2         38113 non-null  float64\n",
      " 39  combined_electricity_consumption   38113 non-null  float64\n",
      " 40  combined_gasoline_consumption_cd   38113 non-null  float64\n",
      " 41  combined_utility_factor            38113 non-null  float64\n",
      " 42  annual_fuel_cost_ft1               38113 non-null  int64  \n",
      " 43  annual_fuel_cost_ft2               38113 non-null  int64  \n",
      " 44  gas_guzzler_tax                    964 non-null    object \n",
      " 45  save_or_spend_5_year               38113 non-null  int64  \n",
      " 46  annual_consumption_in_barrels_ft1  38113 non-null  float64\n",
      " 47  annual_consumption_in_barrels_ft2  38113 non-null  float64\n",
      " 48  tailpipe_co2_ft1                   38113 non-null  int64  \n",
      " 49  tailpipe_co2_in_grams_mile_ft1     38113 non-null  float64\n",
      " 50  tailpipe_co2_ft2                   38113 non-null  int64  \n",
      " 51  tailpipe_co2_in_grams_mile_ft2     38113 non-null  float64\n",
      " 52  fuel_economy_score                 38113 non-null  int64  \n",
      " 53  ghg_score                          38113 non-null  int64  \n",
      " 54  ghg_score_alt_fuel                 38113 non-null  int64  \n",
      " 55  my_mpg_data                        38113 non-null  object \n",
      " 56  x2d_passenger_volume               38113 non-null  int64  \n",
      " 57  x2d_luggage_volume                 38113 non-null  int64  \n",
      " 58  x4d_passenger_volume               38113 non-null  int64  \n",
      " 59  x4d_luggage_volume                 38113 non-null  int64  \n",
      " 60  hatchback_passenger_volume         38113 non-null  int64  \n",
      " 61  hatchback_luggage_volume           38113 non-null  int64  \n",
      " 62  start_stop_technology              0 non-null      float64\n",
      " 63  alternative_fuel_technology        3047 non-null   object \n",
      " 64  electric_motor                     0 non-null      float64\n",
      " 65  manufacturer_code                  0 non-null      float64\n",
      " 66  gasoline_electricity_blended_cd    38113 non-null  bool   \n",
      " 67  vehicle_charger                    0 non-null      float64\n",
      " 68  alternate_charger                  0 non-null      float64\n",
      " 69  hours_to_charge_120v               38113 non-null  int64  \n",
      " 70  hours_to_charge_240v               38113 non-null  float64\n",
      " 71  hours_to_charge_ac_240v            38113 non-null  float64\n",
      " 72  composite_city_mpg                 38113 non-null  int64  \n",
      " 73  composite_highway_mpg              38113 non-null  int64  \n",
      " 74  composite_combined_mpg             38113 non-null  int64  \n",
      " 75  range_ft1                          38113 non-null  int64  \n",
      " 76  city_range_ft1                     38113 non-null  float64\n",
      " 77  highway_range_ft1                  38113 non-null  float64\n",
      " 78  range_ft2                          0 non-null      float64\n",
      " 79  city_range_ft2                     38113 non-null  float64\n",
      " 80  highway_range_ft2                  38113 non-null  float64\n",
      "dtypes: bool(1), float64(39), int64(28), object(13)\n",
      "memory usage: 23.3+ MB\n"
     ]
    }
   ],
   "source": [
    "raw_data.info()"
   ],
   "metadata": {
    "collapsed": false,
    "ExecuteTime": {
     "end_time": "2024-05-18T12:50:17.258995Z",
     "start_time": "2024-05-18T12:50:17.109868Z"
    }
   },
   "id": "6c14b35edd1b200",
   "execution_count": 10
  },
  {
   "cell_type": "code",
   "outputs": [],
   "source": [
    "raw_data.fillna(0,inplace = True)"
   ],
   "metadata": {
    "collapsed": false,
    "ExecuteTime": {
     "end_time": "2024-05-18T13:22:51.305868Z",
     "start_time": "2024-05-18T13:22:51.166993Z"
    }
   },
   "id": "24dad7ddcee6cfcd",
   "execution_count": 26
  },
  {
   "cell_type": "code",
   "outputs": [
    {
     "data": {
      "text/plain": "             make               model                               class  \\\n0      Alfa Romeo           GT V6 2.5                    Minicompact Cars   \n1      Alfa Romeo           GT V6 2.5                    Minicompact Cars   \n2      Alfa Romeo  Spider Veloce 2000                         Two Seaters   \n3      Alfa Romeo  Spider Veloce 2000                         Two Seaters   \n4      AM General   DJ Po Vehicle 2WD         Special Purpose Vehicle 2WD   \n...           ...                 ...                                 ...   \n38108       Volvo            XC60 FWD     Small Sport Utility Vehicle 2WD   \n38109       Volvo            XC90 AWD  Standard Sport Utility Vehicle 4WD   \n38110       Volvo            XC90 AWD  Standard Sport Utility Vehicle 4WD   \n38111       Volvo       XC90 AWD PHEV  Standard Sport Utility Vehicle 4WD   \n38112       Volvo            XC90 FWD  Standard Sport Utility Vehicle 2WD   \n\n                   drive       transmission transmission_type  \\\n0                      0     Manual 5-Speed                 0   \n1                      0     Manual 5-Speed                 0   \n2                      0     Manual 5-Speed                 0   \n3                      0     Manual 5-Speed                 0   \n4          2-Wheel Drive  Automatic 3-Speed                 0   \n...                  ...                ...               ...   \n38108  Front-Wheel Drive     Automatic (S8)                 0   \n38109    All-Wheel Drive     Automatic (S8)                 0   \n38110    All-Wheel Drive     Automatic (S8)                 0   \n38111    All-Wheel Drive     Automatic (S8)                 0   \n38112  Front-Wheel Drive     Automatic (S8)                 0   \n\n      engine_descriptor turbocharger                fuel_type  \\\n0                 (FFS)            0                  Regular   \n1        (FFS) CA model            0                  Regular   \n2                 (FFS)            0                  Regular   \n3        (FFS) CA model            0                  Regular   \n4                 (FFS)            0                  Regular   \n...                 ...          ...                      ...   \n38108              SIDI         True                  Regular   \n38109              SIDI         True                  Premium   \n38110              SIDI         True                  Premium   \n38111        SIDI; PHEV         True  Premium and Electricity   \n38112              SIDI         True                  Premium   \n\n            fuel_type_1 gas_guzzler_tax my_mpg_data  \\\n0      Regular Gasoline               0           N   \n1      Regular Gasoline               0           N   \n2      Regular Gasoline               0           N   \n3      Regular Gasoline               0           N   \n4      Regular Gasoline               0           N   \n...                 ...             ...         ...   \n38108  Regular Gasoline               0           N   \n38109  Premium Gasoline               0           N   \n38110  Premium Gasoline               0           N   \n38111  Premium Gasoline               0           N   \n38112  Premium Gasoline               0           N   \n\n      alternative_fuel_technology  \n0                               0  \n1                               0  \n2                               0  \n3                               0  \n4                               0  \n...                           ...  \n38108                           0  \n38109                           0  \n38110                           0  \n38111              Plug-in Hybrid  \n38112                           0  \n\n[38113 rows x 13 columns]",
      "text/html": "<div>\n<style scoped>\n    .dataframe tbody tr th:only-of-type {\n        vertical-align: middle;\n    }\n\n    .dataframe tbody tr th {\n        vertical-align: top;\n    }\n\n    .dataframe thead th {\n        text-align: right;\n    }\n</style>\n<table border=\"1\" class=\"dataframe\">\n  <thead>\n    <tr style=\"text-align: right;\">\n      <th></th>\n      <th>make</th>\n      <th>model</th>\n      <th>class</th>\n      <th>drive</th>\n      <th>transmission</th>\n      <th>transmission_type</th>\n      <th>engine_descriptor</th>\n      <th>turbocharger</th>\n      <th>fuel_type</th>\n      <th>fuel_type_1</th>\n      <th>gas_guzzler_tax</th>\n      <th>my_mpg_data</th>\n      <th>alternative_fuel_technology</th>\n    </tr>\n  </thead>\n  <tbody>\n    <tr>\n      <th>0</th>\n      <td>Alfa Romeo</td>\n      <td>GT V6 2.5</td>\n      <td>Minicompact Cars</td>\n      <td>0</td>\n      <td>Manual 5-Speed</td>\n      <td>0</td>\n      <td>(FFS)</td>\n      <td>0</td>\n      <td>Regular</td>\n      <td>Regular Gasoline</td>\n      <td>0</td>\n      <td>N</td>\n      <td>0</td>\n    </tr>\n    <tr>\n      <th>1</th>\n      <td>Alfa Romeo</td>\n      <td>GT V6 2.5</td>\n      <td>Minicompact Cars</td>\n      <td>0</td>\n      <td>Manual 5-Speed</td>\n      <td>0</td>\n      <td>(FFS) CA model</td>\n      <td>0</td>\n      <td>Regular</td>\n      <td>Regular Gasoline</td>\n      <td>0</td>\n      <td>N</td>\n      <td>0</td>\n    </tr>\n    <tr>\n      <th>2</th>\n      <td>Alfa Romeo</td>\n      <td>Spider Veloce 2000</td>\n      <td>Two Seaters</td>\n      <td>0</td>\n      <td>Manual 5-Speed</td>\n      <td>0</td>\n      <td>(FFS)</td>\n      <td>0</td>\n      <td>Regular</td>\n      <td>Regular Gasoline</td>\n      <td>0</td>\n      <td>N</td>\n      <td>0</td>\n    </tr>\n    <tr>\n      <th>3</th>\n      <td>Alfa Romeo</td>\n      <td>Spider Veloce 2000</td>\n      <td>Two Seaters</td>\n      <td>0</td>\n      <td>Manual 5-Speed</td>\n      <td>0</td>\n      <td>(FFS) CA model</td>\n      <td>0</td>\n      <td>Regular</td>\n      <td>Regular Gasoline</td>\n      <td>0</td>\n      <td>N</td>\n      <td>0</td>\n    </tr>\n    <tr>\n      <th>4</th>\n      <td>AM General</td>\n      <td>DJ Po Vehicle 2WD</td>\n      <td>Special Purpose Vehicle 2WD</td>\n      <td>2-Wheel Drive</td>\n      <td>Automatic 3-Speed</td>\n      <td>0</td>\n      <td>(FFS)</td>\n      <td>0</td>\n      <td>Regular</td>\n      <td>Regular Gasoline</td>\n      <td>0</td>\n      <td>N</td>\n      <td>0</td>\n    </tr>\n    <tr>\n      <th>...</th>\n      <td>...</td>\n      <td>...</td>\n      <td>...</td>\n      <td>...</td>\n      <td>...</td>\n      <td>...</td>\n      <td>...</td>\n      <td>...</td>\n      <td>...</td>\n      <td>...</td>\n      <td>...</td>\n      <td>...</td>\n      <td>...</td>\n    </tr>\n    <tr>\n      <th>38108</th>\n      <td>Volvo</td>\n      <td>XC60 FWD</td>\n      <td>Small Sport Utility Vehicle 2WD</td>\n      <td>Front-Wheel Drive</td>\n      <td>Automatic (S8)</td>\n      <td>0</td>\n      <td>SIDI</td>\n      <td>True</td>\n      <td>Regular</td>\n      <td>Regular Gasoline</td>\n      <td>0</td>\n      <td>N</td>\n      <td>0</td>\n    </tr>\n    <tr>\n      <th>38109</th>\n      <td>Volvo</td>\n      <td>XC90 AWD</td>\n      <td>Standard Sport Utility Vehicle 4WD</td>\n      <td>All-Wheel Drive</td>\n      <td>Automatic (S8)</td>\n      <td>0</td>\n      <td>SIDI</td>\n      <td>True</td>\n      <td>Premium</td>\n      <td>Premium Gasoline</td>\n      <td>0</td>\n      <td>N</td>\n      <td>0</td>\n    </tr>\n    <tr>\n      <th>38110</th>\n      <td>Volvo</td>\n      <td>XC90 AWD</td>\n      <td>Standard Sport Utility Vehicle 4WD</td>\n      <td>All-Wheel Drive</td>\n      <td>Automatic (S8)</td>\n      <td>0</td>\n      <td>SIDI</td>\n      <td>True</td>\n      <td>Premium</td>\n      <td>Premium Gasoline</td>\n      <td>0</td>\n      <td>N</td>\n      <td>0</td>\n    </tr>\n    <tr>\n      <th>38111</th>\n      <td>Volvo</td>\n      <td>XC90 AWD PHEV</td>\n      <td>Standard Sport Utility Vehicle 4WD</td>\n      <td>All-Wheel Drive</td>\n      <td>Automatic (S8)</td>\n      <td>0</td>\n      <td>SIDI; PHEV</td>\n      <td>True</td>\n      <td>Premium and Electricity</td>\n      <td>Premium Gasoline</td>\n      <td>0</td>\n      <td>N</td>\n      <td>Plug-in Hybrid</td>\n    </tr>\n    <tr>\n      <th>38112</th>\n      <td>Volvo</td>\n      <td>XC90 FWD</td>\n      <td>Standard Sport Utility Vehicle 2WD</td>\n      <td>Front-Wheel Drive</td>\n      <td>Automatic (S8)</td>\n      <td>0</td>\n      <td>SIDI</td>\n      <td>True</td>\n      <td>Premium</td>\n      <td>Premium Gasoline</td>\n      <td>0</td>\n      <td>N</td>\n      <td>0</td>\n    </tr>\n  </tbody>\n</table>\n<p>38113 rows × 13 columns</p>\n</div>"
     },
     "execution_count": 27,
     "metadata": {},
     "output_type": "execute_result"
    }
   ],
   "source": [
    "object_cols = raw_data.select_dtypes(\"object\")\n",
    "object_cols"
   ],
   "metadata": {
    "collapsed": false,
    "ExecuteTime": {
     "end_time": "2024-05-18T13:22:55.885239Z",
     "start_time": "2024-05-18T13:22:55.801540Z"
    }
   },
   "id": "83678d6b7be22f67",
   "execution_count": 27
  },
  {
   "cell_type": "code",
   "outputs": [],
   "source": [
    "cat_cols = [\n",
    "    \"make\",\n",
    "    \"model\",\n",
    "    \"class\",\n",
    "    \"drive\",\n",
    "    \"transmission\",\n",
    "    \"transmission_type\",\n",
    "    \"engine_descriptor\",\n",
    "    \"fuel_type\",\n",
    "    \"fuel_type_1\",\n",
    "    \"alternative_fuel_technology\"\n",
    "]\n",
    "\n",
    "bool_cols = [\n",
    "    \"my_mpg_data\",\n",
    "    'gas_guzzler_tax',\n",
    "    \"turbocharger\"\n",
    "]"
   ],
   "metadata": {
    "collapsed": false,
    "ExecuteTime": {
     "end_time": "2024-05-18T13:32:46.249837Z",
     "start_time": "2024-05-18T13:32:46.223601Z"
    }
   },
   "id": "11db5be57a18ecae",
   "execution_count": 52
  },
  {
   "cell_type": "code",
   "outputs": [],
   "source": [
    "cat_df = raw_data"
   ],
   "metadata": {
    "collapsed": false,
    "ExecuteTime": {
     "end_time": "2024-05-18T13:32:57.477356Z",
     "start_time": "2024-05-18T13:32:57.461200Z"
    }
   },
   "id": "9548c851d1696912",
   "execution_count": 53
  },
  {
   "cell_type": "code",
   "outputs": [],
   "source": [
    "for cat in cat_cols:\n",
    "    cat_df[cat] = cat_df[cat].astype(\"category\")"
   ],
   "metadata": {
    "collapsed": false,
    "ExecuteTime": {
     "end_time": "2024-05-18T13:33:39.363161Z",
     "start_time": "2024-05-18T13:33:39.278531Z"
    }
   },
   "id": "9ed6f307828f271",
   "execution_count": 54
  },
  {
   "cell_type": "code",
   "outputs": [],
   "source": [
    "for col in bool_cols:\n",
    "    cat_df[col] = cat_df[col].astype(\"bool\")"
   ],
   "metadata": {
    "collapsed": false,
    "ExecuteTime": {
     "end_time": "2024-05-18T13:34:08.820591Z",
     "start_time": "2024-05-18T13:34:08.816244Z"
    }
   },
   "id": "10ee14ac1c81752f",
   "execution_count": 55
  },
  {
   "cell_type": "code",
   "outputs": [
    {
     "data": {
      "text/plain": "       vehicle_id  year        make               model  \\\n0           26587  1984  Alfa Romeo           GT V6 2.5   \n1           27705  1984  Alfa Romeo           GT V6 2.5   \n2           26561  1984  Alfa Romeo  Spider Veloce 2000   \n3           27681  1984  Alfa Romeo  Spider Veloce 2000   \n4           27550  1984  AM General   DJ Po Vehicle 2WD   \n...           ...   ...         ...                 ...   \n38108       37564  2017       Volvo            XC60 FWD   \n38109       37547  2017       Volvo            XC90 AWD   \n38110       37548  2017       Volvo            XC90 AWD   \n38111       37703  2017       Volvo       XC90 AWD PHEV   \n38112       37687  2017       Volvo            XC90 FWD   \n\n                                    class              drive  \\\n0                        Minicompact Cars                  0   \n1                        Minicompact Cars                  0   \n2                             Two Seaters                  0   \n3                             Two Seaters                  0   \n4             Special Purpose Vehicle 2WD      2-Wheel Drive   \n...                                   ...                ...   \n38108     Small Sport Utility Vehicle 2WD  Front-Wheel Drive   \n38109  Standard Sport Utility Vehicle 4WD    All-Wheel Drive   \n38110  Standard Sport Utility Vehicle 4WD    All-Wheel Drive   \n38111  Standard Sport Utility Vehicle 4WD    All-Wheel Drive   \n38112  Standard Sport Utility Vehicle 2WD  Front-Wheel Drive   \n\n            transmission transmission_type  engine_index engine_descriptor  \\\n0         Manual 5-Speed                 0          9001             (FFS)   \n1         Manual 5-Speed                 0          9005    (FFS) CA model   \n2         Manual 5-Speed                 0          9002             (FFS)   \n3         Manual 5-Speed                 0          9006    (FFS) CA model   \n4      Automatic 3-Speed                 0          1830             (FFS)   \n...                  ...               ...           ...               ...   \n38108     Automatic (S8)                 0            90              SIDI   \n38109     Automatic (S8)                 0            52              SIDI   \n38110     Automatic (S8)                 0            53              SIDI   \n38111     Automatic (S8)                 0            54        SIDI; PHEV   \n38112     Automatic (S8)                 0            50              SIDI   \n\n       ...  hours_to_charge_ac_240v  composite_city_mpg  \\\n0      ...                      0.0                   0   \n1      ...                      0.0                   0   \n2      ...                      0.0                   0   \n3      ...                      0.0                   0   \n4      ...                      0.0                   0   \n...    ...                      ...                 ...   \n38108  ...                      0.0                   0   \n38109  ...                      0.0                   0   \n38110  ...                      0.0                   0   \n38111  ...                      0.0                  29   \n38112  ...                      0.0                   0   \n\n       composite_highway_mpg  composite_combined_mpg range_ft1 city_range_ft1  \\\n0                          0                       0         0            0.0   \n1                          0                       0         0            0.0   \n2                          0                       0         0            0.0   \n3                          0                       0         0            0.0   \n4                          0                       0         0            0.0   \n...                      ...                     ...       ...            ...   \n38108                      0                       0         0            0.0   \n38109                      0                       0         0            0.0   \n38110                      0                       0         0            0.0   \n38111                     32                      30         0            0.0   \n38112                      0                       0         0            0.0   \n\n       highway_range_ft1  range_ft2  city_range_ft2  highway_range_ft2  \n0                    0.0        0.0            0.00                0.0  \n1                    0.0        0.0            0.00                0.0  \n2                    0.0        0.0            0.00                0.0  \n3                    0.0        0.0            0.00                0.0  \n4                    0.0        0.0            0.00                0.0  \n...                  ...        ...             ...                ...  \n38108                0.0        0.0            0.00                0.0  \n38109                0.0        0.0            0.00                0.0  \n38110                0.0        0.0            0.00                0.0  \n38111                0.0        0.0           13.84               13.3  \n38112                0.0        0.0            0.00                0.0  \n\n[38113 rows x 81 columns]",
      "text/html": "<div>\n<style scoped>\n    .dataframe tbody tr th:only-of-type {\n        vertical-align: middle;\n    }\n\n    .dataframe tbody tr th {\n        vertical-align: top;\n    }\n\n    .dataframe thead th {\n        text-align: right;\n    }\n</style>\n<table border=\"1\" class=\"dataframe\">\n  <thead>\n    <tr style=\"text-align: right;\">\n      <th></th>\n      <th>vehicle_id</th>\n      <th>year</th>\n      <th>make</th>\n      <th>model</th>\n      <th>class</th>\n      <th>drive</th>\n      <th>transmission</th>\n      <th>transmission_type</th>\n      <th>engine_index</th>\n      <th>engine_descriptor</th>\n      <th>...</th>\n      <th>hours_to_charge_ac_240v</th>\n      <th>composite_city_mpg</th>\n      <th>composite_highway_mpg</th>\n      <th>composite_combined_mpg</th>\n      <th>range_ft1</th>\n      <th>city_range_ft1</th>\n      <th>highway_range_ft1</th>\n      <th>range_ft2</th>\n      <th>city_range_ft2</th>\n      <th>highway_range_ft2</th>\n    </tr>\n  </thead>\n  <tbody>\n    <tr>\n      <th>0</th>\n      <td>26587</td>\n      <td>1984</td>\n      <td>Alfa Romeo</td>\n      <td>GT V6 2.5</td>\n      <td>Minicompact Cars</td>\n      <td>0</td>\n      <td>Manual 5-Speed</td>\n      <td>0</td>\n      <td>9001</td>\n      <td>(FFS)</td>\n      <td>...</td>\n      <td>0.0</td>\n      <td>0</td>\n      <td>0</td>\n      <td>0</td>\n      <td>0</td>\n      <td>0.0</td>\n      <td>0.0</td>\n      <td>0.0</td>\n      <td>0.00</td>\n      <td>0.0</td>\n    </tr>\n    <tr>\n      <th>1</th>\n      <td>27705</td>\n      <td>1984</td>\n      <td>Alfa Romeo</td>\n      <td>GT V6 2.5</td>\n      <td>Minicompact Cars</td>\n      <td>0</td>\n      <td>Manual 5-Speed</td>\n      <td>0</td>\n      <td>9005</td>\n      <td>(FFS) CA model</td>\n      <td>...</td>\n      <td>0.0</td>\n      <td>0</td>\n      <td>0</td>\n      <td>0</td>\n      <td>0</td>\n      <td>0.0</td>\n      <td>0.0</td>\n      <td>0.0</td>\n      <td>0.00</td>\n      <td>0.0</td>\n    </tr>\n    <tr>\n      <th>2</th>\n      <td>26561</td>\n      <td>1984</td>\n      <td>Alfa Romeo</td>\n      <td>Spider Veloce 2000</td>\n      <td>Two Seaters</td>\n      <td>0</td>\n      <td>Manual 5-Speed</td>\n      <td>0</td>\n      <td>9002</td>\n      <td>(FFS)</td>\n      <td>...</td>\n      <td>0.0</td>\n      <td>0</td>\n      <td>0</td>\n      <td>0</td>\n      <td>0</td>\n      <td>0.0</td>\n      <td>0.0</td>\n      <td>0.0</td>\n      <td>0.00</td>\n      <td>0.0</td>\n    </tr>\n    <tr>\n      <th>3</th>\n      <td>27681</td>\n      <td>1984</td>\n      <td>Alfa Romeo</td>\n      <td>Spider Veloce 2000</td>\n      <td>Two Seaters</td>\n      <td>0</td>\n      <td>Manual 5-Speed</td>\n      <td>0</td>\n      <td>9006</td>\n      <td>(FFS) CA model</td>\n      <td>...</td>\n      <td>0.0</td>\n      <td>0</td>\n      <td>0</td>\n      <td>0</td>\n      <td>0</td>\n      <td>0.0</td>\n      <td>0.0</td>\n      <td>0.0</td>\n      <td>0.00</td>\n      <td>0.0</td>\n    </tr>\n    <tr>\n      <th>4</th>\n      <td>27550</td>\n      <td>1984</td>\n      <td>AM General</td>\n      <td>DJ Po Vehicle 2WD</td>\n      <td>Special Purpose Vehicle 2WD</td>\n      <td>2-Wheel Drive</td>\n      <td>Automatic 3-Speed</td>\n      <td>0</td>\n      <td>1830</td>\n      <td>(FFS)</td>\n      <td>...</td>\n      <td>0.0</td>\n      <td>0</td>\n      <td>0</td>\n      <td>0</td>\n      <td>0</td>\n      <td>0.0</td>\n      <td>0.0</td>\n      <td>0.0</td>\n      <td>0.00</td>\n      <td>0.0</td>\n    </tr>\n    <tr>\n      <th>...</th>\n      <td>...</td>\n      <td>...</td>\n      <td>...</td>\n      <td>...</td>\n      <td>...</td>\n      <td>...</td>\n      <td>...</td>\n      <td>...</td>\n      <td>...</td>\n      <td>...</td>\n      <td>...</td>\n      <td>...</td>\n      <td>...</td>\n      <td>...</td>\n      <td>...</td>\n      <td>...</td>\n      <td>...</td>\n      <td>...</td>\n      <td>...</td>\n      <td>...</td>\n      <td>...</td>\n    </tr>\n    <tr>\n      <th>38108</th>\n      <td>37564</td>\n      <td>2017</td>\n      <td>Volvo</td>\n      <td>XC60 FWD</td>\n      <td>Small Sport Utility Vehicle 2WD</td>\n      <td>Front-Wheel Drive</td>\n      <td>Automatic (S8)</td>\n      <td>0</td>\n      <td>90</td>\n      <td>SIDI</td>\n      <td>...</td>\n      <td>0.0</td>\n      <td>0</td>\n      <td>0</td>\n      <td>0</td>\n      <td>0</td>\n      <td>0.0</td>\n      <td>0.0</td>\n      <td>0.0</td>\n      <td>0.00</td>\n      <td>0.0</td>\n    </tr>\n    <tr>\n      <th>38109</th>\n      <td>37547</td>\n      <td>2017</td>\n      <td>Volvo</td>\n      <td>XC90 AWD</td>\n      <td>Standard Sport Utility Vehicle 4WD</td>\n      <td>All-Wheel Drive</td>\n      <td>Automatic (S8)</td>\n      <td>0</td>\n      <td>52</td>\n      <td>SIDI</td>\n      <td>...</td>\n      <td>0.0</td>\n      <td>0</td>\n      <td>0</td>\n      <td>0</td>\n      <td>0</td>\n      <td>0.0</td>\n      <td>0.0</td>\n      <td>0.0</td>\n      <td>0.00</td>\n      <td>0.0</td>\n    </tr>\n    <tr>\n      <th>38110</th>\n      <td>37548</td>\n      <td>2017</td>\n      <td>Volvo</td>\n      <td>XC90 AWD</td>\n      <td>Standard Sport Utility Vehicle 4WD</td>\n      <td>All-Wheel Drive</td>\n      <td>Automatic (S8)</td>\n      <td>0</td>\n      <td>53</td>\n      <td>SIDI</td>\n      <td>...</td>\n      <td>0.0</td>\n      <td>0</td>\n      <td>0</td>\n      <td>0</td>\n      <td>0</td>\n      <td>0.0</td>\n      <td>0.0</td>\n      <td>0.0</td>\n      <td>0.00</td>\n      <td>0.0</td>\n    </tr>\n    <tr>\n      <th>38111</th>\n      <td>37703</td>\n      <td>2017</td>\n      <td>Volvo</td>\n      <td>XC90 AWD PHEV</td>\n      <td>Standard Sport Utility Vehicle 4WD</td>\n      <td>All-Wheel Drive</td>\n      <td>Automatic (S8)</td>\n      <td>0</td>\n      <td>54</td>\n      <td>SIDI; PHEV</td>\n      <td>...</td>\n      <td>0.0</td>\n      <td>29</td>\n      <td>32</td>\n      <td>30</td>\n      <td>0</td>\n      <td>0.0</td>\n      <td>0.0</td>\n      <td>0.0</td>\n      <td>13.84</td>\n      <td>13.3</td>\n    </tr>\n    <tr>\n      <th>38112</th>\n      <td>37687</td>\n      <td>2017</td>\n      <td>Volvo</td>\n      <td>XC90 FWD</td>\n      <td>Standard Sport Utility Vehicle 2WD</td>\n      <td>Front-Wheel Drive</td>\n      <td>Automatic (S8)</td>\n      <td>0</td>\n      <td>50</td>\n      <td>SIDI</td>\n      <td>...</td>\n      <td>0.0</td>\n      <td>0</td>\n      <td>0</td>\n      <td>0</td>\n      <td>0</td>\n      <td>0.0</td>\n      <td>0.0</td>\n      <td>0.0</td>\n      <td>0.00</td>\n      <td>0.0</td>\n    </tr>\n  </tbody>\n</table>\n<p>38113 rows × 81 columns</p>\n</div>"
     },
     "execution_count": 56,
     "metadata": {},
     "output_type": "execute_result"
    }
   ],
   "source": [
    "cat_df"
   ],
   "metadata": {
    "collapsed": false,
    "ExecuteTime": {
     "end_time": "2024-05-18T13:34:14.303807Z",
     "start_time": "2024-05-18T13:34:14.254757Z"
    }
   },
   "id": "97eef68209b7fc4",
   "execution_count": 56
  },
  {
   "cell_type": "markdown",
   "source": [
    "Drop 0 cols in drive"
   ],
   "metadata": {
    "collapsed": false
   },
   "id": "d6f2d57c9a1285c6"
  },
  {
   "cell_type": "code",
   "outputs": [],
   "source": [
    "clean_df = cat_df"
   ],
   "metadata": {
    "collapsed": false,
    "ExecuteTime": {
     "end_time": "2024-05-18T13:36:00.922679Z",
     "start_time": "2024-05-18T13:36:00.873408Z"
    }
   },
   "id": "1147ac5099cb3651",
   "execution_count": 57
  },
  {
   "cell_type": "code",
   "outputs": [
    {
     "data": {
      "text/plain": "(38113, 81)"
     },
     "execution_count": 60,
     "metadata": {},
     "output_type": "execute_result"
    }
   ],
   "source": [
    "clean_df.shape"
   ],
   "metadata": {
    "collapsed": false,
    "ExecuteTime": {
     "end_time": "2024-05-18T13:36:50.552115Z",
     "start_time": "2024-05-18T13:36:50.536966Z"
    }
   },
   "id": "d75a6a7706e1b0ff",
   "execution_count": 60
  },
  {
   "cell_type": "code",
   "outputs": [
    {
     "data": {
      "text/plain": "(36924, 81)"
     },
     "execution_count": 63,
     "metadata": {},
     "output_type": "execute_result"
    }
   ],
   "source": [
    "clean_df = clean_df[clean_df[\"drive\"] != 0]\n",
    "clean_df.shape"
   ],
   "metadata": {
    "collapsed": false,
    "ExecuteTime": {
     "end_time": "2024-05-18T13:37:13.718815Z",
     "start_time": "2024-05-18T13:37:13.678625Z"
    }
   },
   "id": "2552b7e3a4bf567c",
   "execution_count": 63
  },
  {
   "cell_type": "code",
   "outputs": [
    {
     "data": {
      "text/plain": "       vehicle_id  year                         make              model  \\\n4           27550  1984                   AM General  DJ Po Vehicle 2WD   \n5           28426  1984                   AM General  DJ Po Vehicle 2WD   \n6           27549  1984                   AM General   FJ8c Post Office   \n7           28425  1984                   AM General   FJ8c Post Office   \n8           27593  1984  American Motors Corporation          Eagle 4WD   \n...           ...   ...                          ...                ...   \n38108       37564  2017                        Volvo           XC60 FWD   \n38109       37547  2017                        Volvo           XC90 AWD   \n38110       37548  2017                        Volvo           XC90 AWD   \n38111       37703  2017                        Volvo      XC90 AWD PHEV   \n38112       37687  2017                        Volvo           XC90 FWD   \n\n                                    class                       drive  \\\n4             Special Purpose Vehicle 2WD               2-Wheel Drive   \n5             Special Purpose Vehicle 2WD               2-Wheel Drive   \n6             Special Purpose Vehicle 2WD               2-Wheel Drive   \n7             Special Purpose Vehicle 2WD               2-Wheel Drive   \n8             Special Purpose Vehicle 4WD  4-Wheel or All-Wheel Drive   \n...                                   ...                         ...   \n38108     Small Sport Utility Vehicle 2WD           Front-Wheel Drive   \n38109  Standard Sport Utility Vehicle 4WD             All-Wheel Drive   \n38110  Standard Sport Utility Vehicle 4WD             All-Wheel Drive   \n38111  Standard Sport Utility Vehicle 4WD             All-Wheel Drive   \n38112  Standard Sport Utility Vehicle 2WD           Front-Wheel Drive   \n\n            transmission transmission_type  engine_index engine_descriptor  \\\n4      Automatic 3-Speed                 0          1830             (FFS)   \n5      Automatic 3-Speed                 0          1880    (FFS) CA model   \n6      Automatic 3-Speed                 0          1831             (FFS)   \n7      Automatic 3-Speed                 0          1881    (FFS) CA model   \n8      Automatic 3-Speed                 0          1524             (FFS)   \n...                  ...               ...           ...               ...   \n38108     Automatic (S8)                 0            90              SIDI   \n38109     Automatic (S8)                 0            52              SIDI   \n38110     Automatic (S8)                 0            53              SIDI   \n38111     Automatic (S8)                 0            54        SIDI; PHEV   \n38112     Automatic (S8)                 0            50              SIDI   \n\n       ...  hours_to_charge_ac_240v  composite_city_mpg  \\\n4      ...                      0.0                   0   \n5      ...                      0.0                   0   \n6      ...                      0.0                   0   \n7      ...                      0.0                   0   \n8      ...                      0.0                   0   \n...    ...                      ...                 ...   \n38108  ...                      0.0                   0   \n38109  ...                      0.0                   0   \n38110  ...                      0.0                   0   \n38111  ...                      0.0                  29   \n38112  ...                      0.0                   0   \n\n       composite_highway_mpg  composite_combined_mpg range_ft1 city_range_ft1  \\\n4                          0                       0         0            0.0   \n5                          0                       0         0            0.0   \n6                          0                       0         0            0.0   \n7                          0                       0         0            0.0   \n8                          0                       0         0            0.0   \n...                      ...                     ...       ...            ...   \n38108                      0                       0         0            0.0   \n38109                      0                       0         0            0.0   \n38110                      0                       0         0            0.0   \n38111                     32                      30         0            0.0   \n38112                      0                       0         0            0.0   \n\n       highway_range_ft1  range_ft2  city_range_ft2  highway_range_ft2  \n4                    0.0        0.0            0.00                0.0  \n5                    0.0        0.0            0.00                0.0  \n6                    0.0        0.0            0.00                0.0  \n7                    0.0        0.0            0.00                0.0  \n8                    0.0        0.0            0.00                0.0  \n...                  ...        ...             ...                ...  \n38108                0.0        0.0            0.00                0.0  \n38109                0.0        0.0            0.00                0.0  \n38110                0.0        0.0            0.00                0.0  \n38111                0.0        0.0           13.84               13.3  \n38112                0.0        0.0            0.00                0.0  \n\n[36924 rows x 81 columns]",
      "text/html": "<div>\n<style scoped>\n    .dataframe tbody tr th:only-of-type {\n        vertical-align: middle;\n    }\n\n    .dataframe tbody tr th {\n        vertical-align: top;\n    }\n\n    .dataframe thead th {\n        text-align: right;\n    }\n</style>\n<table border=\"1\" class=\"dataframe\">\n  <thead>\n    <tr style=\"text-align: right;\">\n      <th></th>\n      <th>vehicle_id</th>\n      <th>year</th>\n      <th>make</th>\n      <th>model</th>\n      <th>class</th>\n      <th>drive</th>\n      <th>transmission</th>\n      <th>transmission_type</th>\n      <th>engine_index</th>\n      <th>engine_descriptor</th>\n      <th>...</th>\n      <th>hours_to_charge_ac_240v</th>\n      <th>composite_city_mpg</th>\n      <th>composite_highway_mpg</th>\n      <th>composite_combined_mpg</th>\n      <th>range_ft1</th>\n      <th>city_range_ft1</th>\n      <th>highway_range_ft1</th>\n      <th>range_ft2</th>\n      <th>city_range_ft2</th>\n      <th>highway_range_ft2</th>\n    </tr>\n  </thead>\n  <tbody>\n    <tr>\n      <th>4</th>\n      <td>27550</td>\n      <td>1984</td>\n      <td>AM General</td>\n      <td>DJ Po Vehicle 2WD</td>\n      <td>Special Purpose Vehicle 2WD</td>\n      <td>2-Wheel Drive</td>\n      <td>Automatic 3-Speed</td>\n      <td>0</td>\n      <td>1830</td>\n      <td>(FFS)</td>\n      <td>...</td>\n      <td>0.0</td>\n      <td>0</td>\n      <td>0</td>\n      <td>0</td>\n      <td>0</td>\n      <td>0.0</td>\n      <td>0.0</td>\n      <td>0.0</td>\n      <td>0.00</td>\n      <td>0.0</td>\n    </tr>\n    <tr>\n      <th>5</th>\n      <td>28426</td>\n      <td>1984</td>\n      <td>AM General</td>\n      <td>DJ Po Vehicle 2WD</td>\n      <td>Special Purpose Vehicle 2WD</td>\n      <td>2-Wheel Drive</td>\n      <td>Automatic 3-Speed</td>\n      <td>0</td>\n      <td>1880</td>\n      <td>(FFS) CA model</td>\n      <td>...</td>\n      <td>0.0</td>\n      <td>0</td>\n      <td>0</td>\n      <td>0</td>\n      <td>0</td>\n      <td>0.0</td>\n      <td>0.0</td>\n      <td>0.0</td>\n      <td>0.00</td>\n      <td>0.0</td>\n    </tr>\n    <tr>\n      <th>6</th>\n      <td>27549</td>\n      <td>1984</td>\n      <td>AM General</td>\n      <td>FJ8c Post Office</td>\n      <td>Special Purpose Vehicle 2WD</td>\n      <td>2-Wheel Drive</td>\n      <td>Automatic 3-Speed</td>\n      <td>0</td>\n      <td>1831</td>\n      <td>(FFS)</td>\n      <td>...</td>\n      <td>0.0</td>\n      <td>0</td>\n      <td>0</td>\n      <td>0</td>\n      <td>0</td>\n      <td>0.0</td>\n      <td>0.0</td>\n      <td>0.0</td>\n      <td>0.00</td>\n      <td>0.0</td>\n    </tr>\n    <tr>\n      <th>7</th>\n      <td>28425</td>\n      <td>1984</td>\n      <td>AM General</td>\n      <td>FJ8c Post Office</td>\n      <td>Special Purpose Vehicle 2WD</td>\n      <td>2-Wheel Drive</td>\n      <td>Automatic 3-Speed</td>\n      <td>0</td>\n      <td>1881</td>\n      <td>(FFS) CA model</td>\n      <td>...</td>\n      <td>0.0</td>\n      <td>0</td>\n      <td>0</td>\n      <td>0</td>\n      <td>0</td>\n      <td>0.0</td>\n      <td>0.0</td>\n      <td>0.0</td>\n      <td>0.00</td>\n      <td>0.0</td>\n    </tr>\n    <tr>\n      <th>8</th>\n      <td>27593</td>\n      <td>1984</td>\n      <td>American Motors Corporation</td>\n      <td>Eagle 4WD</td>\n      <td>Special Purpose Vehicle 4WD</td>\n      <td>4-Wheel or All-Wheel Drive</td>\n      <td>Automatic 3-Speed</td>\n      <td>0</td>\n      <td>1524</td>\n      <td>(FFS)</td>\n      <td>...</td>\n      <td>0.0</td>\n      <td>0</td>\n      <td>0</td>\n      <td>0</td>\n      <td>0</td>\n      <td>0.0</td>\n      <td>0.0</td>\n      <td>0.0</td>\n      <td>0.00</td>\n      <td>0.0</td>\n    </tr>\n    <tr>\n      <th>...</th>\n      <td>...</td>\n      <td>...</td>\n      <td>...</td>\n      <td>...</td>\n      <td>...</td>\n      <td>...</td>\n      <td>...</td>\n      <td>...</td>\n      <td>...</td>\n      <td>...</td>\n      <td>...</td>\n      <td>...</td>\n      <td>...</td>\n      <td>...</td>\n      <td>...</td>\n      <td>...</td>\n      <td>...</td>\n      <td>...</td>\n      <td>...</td>\n      <td>...</td>\n      <td>...</td>\n    </tr>\n    <tr>\n      <th>38108</th>\n      <td>37564</td>\n      <td>2017</td>\n      <td>Volvo</td>\n      <td>XC60 FWD</td>\n      <td>Small Sport Utility Vehicle 2WD</td>\n      <td>Front-Wheel Drive</td>\n      <td>Automatic (S8)</td>\n      <td>0</td>\n      <td>90</td>\n      <td>SIDI</td>\n      <td>...</td>\n      <td>0.0</td>\n      <td>0</td>\n      <td>0</td>\n      <td>0</td>\n      <td>0</td>\n      <td>0.0</td>\n      <td>0.0</td>\n      <td>0.0</td>\n      <td>0.00</td>\n      <td>0.0</td>\n    </tr>\n    <tr>\n      <th>38109</th>\n      <td>37547</td>\n      <td>2017</td>\n      <td>Volvo</td>\n      <td>XC90 AWD</td>\n      <td>Standard Sport Utility Vehicle 4WD</td>\n      <td>All-Wheel Drive</td>\n      <td>Automatic (S8)</td>\n      <td>0</td>\n      <td>52</td>\n      <td>SIDI</td>\n      <td>...</td>\n      <td>0.0</td>\n      <td>0</td>\n      <td>0</td>\n      <td>0</td>\n      <td>0</td>\n      <td>0.0</td>\n      <td>0.0</td>\n      <td>0.0</td>\n      <td>0.00</td>\n      <td>0.0</td>\n    </tr>\n    <tr>\n      <th>38110</th>\n      <td>37548</td>\n      <td>2017</td>\n      <td>Volvo</td>\n      <td>XC90 AWD</td>\n      <td>Standard Sport Utility Vehicle 4WD</td>\n      <td>All-Wheel Drive</td>\n      <td>Automatic (S8)</td>\n      <td>0</td>\n      <td>53</td>\n      <td>SIDI</td>\n      <td>...</td>\n      <td>0.0</td>\n      <td>0</td>\n      <td>0</td>\n      <td>0</td>\n      <td>0</td>\n      <td>0.0</td>\n      <td>0.0</td>\n      <td>0.0</td>\n      <td>0.00</td>\n      <td>0.0</td>\n    </tr>\n    <tr>\n      <th>38111</th>\n      <td>37703</td>\n      <td>2017</td>\n      <td>Volvo</td>\n      <td>XC90 AWD PHEV</td>\n      <td>Standard Sport Utility Vehicle 4WD</td>\n      <td>All-Wheel Drive</td>\n      <td>Automatic (S8)</td>\n      <td>0</td>\n      <td>54</td>\n      <td>SIDI; PHEV</td>\n      <td>...</td>\n      <td>0.0</td>\n      <td>29</td>\n      <td>32</td>\n      <td>30</td>\n      <td>0</td>\n      <td>0.0</td>\n      <td>0.0</td>\n      <td>0.0</td>\n      <td>13.84</td>\n      <td>13.3</td>\n    </tr>\n    <tr>\n      <th>38112</th>\n      <td>37687</td>\n      <td>2017</td>\n      <td>Volvo</td>\n      <td>XC90 FWD</td>\n      <td>Standard Sport Utility Vehicle 2WD</td>\n      <td>Front-Wheel Drive</td>\n      <td>Automatic (S8)</td>\n      <td>0</td>\n      <td>50</td>\n      <td>SIDI</td>\n      <td>...</td>\n      <td>0.0</td>\n      <td>0</td>\n      <td>0</td>\n      <td>0</td>\n      <td>0</td>\n      <td>0.0</td>\n      <td>0.0</td>\n      <td>0.0</td>\n      <td>0.00</td>\n      <td>0.0</td>\n    </tr>\n  </tbody>\n</table>\n<p>36924 rows × 81 columns</p>\n</div>"
     },
     "execution_count": 64,
     "metadata": {},
     "output_type": "execute_result"
    }
   ],
   "source": [
    "clean_df"
   ],
   "metadata": {
    "collapsed": false,
    "ExecuteTime": {
     "end_time": "2024-05-18T13:37:20.077614Z",
     "start_time": "2024-05-18T13:37:20.018740Z"
    }
   },
   "id": "d8317c1aa8a61a78",
   "execution_count": 64
  }
 ],
 "metadata": {
  "kernelspec": {
   "display_name": "Python 3",
   "language": "python",
   "name": "python3"
  },
  "language_info": {
   "codemirror_mode": {
    "name": "ipython",
    "version": 2
   },
   "file_extension": ".py",
   "mimetype": "text/x-python",
   "name": "python",
   "nbconvert_exporter": "python",
   "pygments_lexer": "ipython2",
   "version": "2.7.6"
  }
 },
 "nbformat": 4,
 "nbformat_minor": 5
}
