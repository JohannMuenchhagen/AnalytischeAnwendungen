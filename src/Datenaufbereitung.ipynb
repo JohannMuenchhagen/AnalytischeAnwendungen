{
 "cells": [
  {
   "cell_type": "code",
   "execution_count": 1,
   "id": "initial_id",
   "metadata": {
    "collapsed": true,
    "ExecuteTime": {
     "end_time": "2024-05-18T12:45:40.864242Z",
     "start_time": "2024-05-18T12:45:36.947834Z"
    }
   },
   "outputs": [],
   "source": [
    "import pandas as pd"
   ]
  },
  {
   "cell_type": "code",
   "outputs": [
    {
     "name": "stderr",
     "output_type": "stream",
     "text": [
      "/var/folders/9g/6s6jvkk926149cqngqhhk7zh0000gn/T/ipykernel_6559/3551924139.py:1: DtypeWarning: Columns (7,44) have mixed types. Specify dtype option on import or set low_memory=False.\n",
      "  raw_data = pd.read_csv(\"../data/fuel.csv\")\n"
     ]
    }
   ],
   "source": [
    "raw_data = pd.read_csv(\"../data/fuel.csv\")"
   ],
   "metadata": {
    "collapsed": false,
    "ExecuteTime": {
     "end_time": "2024-05-18T13:48:12.782743Z",
     "start_time": "2024-05-18T13:48:12.145347Z"
    }
   },
   "id": "6aa1cf06ee43e0e3",
   "execution_count": 73
  },
  {
   "cell_type": "code",
   "outputs": [
    {
     "data": {
      "text/plain": "       vehicle_id  year        make               model  \\\n0           26587  1984  Alfa Romeo           GT V6 2.5   \n1           27705  1984  Alfa Romeo           GT V6 2.5   \n2           26561  1984  Alfa Romeo  Spider Veloce 2000   \n3           27681  1984  Alfa Romeo  Spider Veloce 2000   \n4           27550  1984  AM General   DJ Po Vehicle 2WD   \n...           ...   ...         ...                 ...   \n38108       37564  2017       Volvo            XC60 FWD   \n38109       37547  2017       Volvo            XC90 AWD   \n38110       37548  2017       Volvo            XC90 AWD   \n38111       37703  2017       Volvo       XC90 AWD PHEV   \n38112       37687  2017       Volvo            XC90 FWD   \n\n                                    class              drive  \\\n0                        Minicompact Cars                NaN   \n1                        Minicompact Cars                NaN   \n2                             Two Seaters                NaN   \n3                             Two Seaters                NaN   \n4             Special Purpose Vehicle 2WD      2-Wheel Drive   \n...                                   ...                ...   \n38108     Small Sport Utility Vehicle 2WD  Front-Wheel Drive   \n38109  Standard Sport Utility Vehicle 4WD    All-Wheel Drive   \n38110  Standard Sport Utility Vehicle 4WD    All-Wheel Drive   \n38111  Standard Sport Utility Vehicle 4WD    All-Wheel Drive   \n38112  Standard Sport Utility Vehicle 2WD  Front-Wheel Drive   \n\n            transmission transmission_type  engine_index engine_descriptor  \\\n0         Manual 5-Speed               NaN          9001             (FFS)   \n1         Manual 5-Speed               NaN          9005    (FFS) CA model   \n2         Manual 5-Speed               NaN          9002             (FFS)   \n3         Manual 5-Speed               NaN          9006    (FFS) CA model   \n4      Automatic 3-Speed               NaN          1830             (FFS)   \n...                  ...               ...           ...               ...   \n38108     Automatic (S8)               NaN            90              SIDI   \n38109     Automatic (S8)               NaN            52              SIDI   \n38110     Automatic (S8)               NaN            53              SIDI   \n38111     Automatic (S8)               NaN            54        SIDI; PHEV   \n38112     Automatic (S8)               NaN            50              SIDI   \n\n       ...  hours_to_charge_ac_240v  composite_city_mpg composite_highway_mpg  \\\n0      ...                      0.0                   0                     0   \n1      ...                      0.0                   0                     0   \n2      ...                      0.0                   0                     0   \n3      ...                      0.0                   0                     0   \n4      ...                      0.0                   0                     0   \n...    ...                      ...                 ...                   ...   \n38108  ...                      0.0                   0                     0   \n38109  ...                      0.0                   0                     0   \n38110  ...                      0.0                   0                     0   \n38111  ...                      0.0                  29                    32   \n38112  ...                      0.0                   0                     0   \n\n       composite_combined_mpg range_ft1 city_range_ft1  highway_range_ft1  \\\n0                           0         0            0.0                0.0   \n1                           0         0            0.0                0.0   \n2                           0         0            0.0                0.0   \n3                           0         0            0.0                0.0   \n4                           0         0            0.0                0.0   \n...                       ...       ...            ...                ...   \n38108                       0         0            0.0                0.0   \n38109                       0         0            0.0                0.0   \n38110                       0         0            0.0                0.0   \n38111                      30         0            0.0                0.0   \n38112                       0         0            0.0                0.0   \n\n       range_ft2  city_range_ft2  highway_range_ft2  \n0            NaN            0.00                0.0  \n1            NaN            0.00                0.0  \n2            NaN            0.00                0.0  \n3            NaN            0.00                0.0  \n4            NaN            0.00                0.0  \n...          ...             ...                ...  \n38108        NaN            0.00                0.0  \n38109        NaN            0.00                0.0  \n38110        NaN            0.00                0.0  \n38111        NaN           13.84               13.3  \n38112        NaN            0.00                0.0  \n\n[38113 rows x 81 columns]",
      "text/html": "<div>\n<style scoped>\n    .dataframe tbody tr th:only-of-type {\n        vertical-align: middle;\n    }\n\n    .dataframe tbody tr th {\n        vertical-align: top;\n    }\n\n    .dataframe thead th {\n        text-align: right;\n    }\n</style>\n<table border=\"1\" class=\"dataframe\">\n  <thead>\n    <tr style=\"text-align: right;\">\n      <th></th>\n      <th>vehicle_id</th>\n      <th>year</th>\n      <th>make</th>\n      <th>model</th>\n      <th>class</th>\n      <th>drive</th>\n      <th>transmission</th>\n      <th>transmission_type</th>\n      <th>engine_index</th>\n      <th>engine_descriptor</th>\n      <th>...</th>\n      <th>hours_to_charge_ac_240v</th>\n      <th>composite_city_mpg</th>\n      <th>composite_highway_mpg</th>\n      <th>composite_combined_mpg</th>\n      <th>range_ft1</th>\n      <th>city_range_ft1</th>\n      <th>highway_range_ft1</th>\n      <th>range_ft2</th>\n      <th>city_range_ft2</th>\n      <th>highway_range_ft2</th>\n    </tr>\n  </thead>\n  <tbody>\n    <tr>\n      <th>0</th>\n      <td>26587</td>\n      <td>1984</td>\n      <td>Alfa Romeo</td>\n      <td>GT V6 2.5</td>\n      <td>Minicompact Cars</td>\n      <td>NaN</td>\n      <td>Manual 5-Speed</td>\n      <td>NaN</td>\n      <td>9001</td>\n      <td>(FFS)</td>\n      <td>...</td>\n      <td>0.0</td>\n      <td>0</td>\n      <td>0</td>\n      <td>0</td>\n      <td>0</td>\n      <td>0.0</td>\n      <td>0.0</td>\n      <td>NaN</td>\n      <td>0.00</td>\n      <td>0.0</td>\n    </tr>\n    <tr>\n      <th>1</th>\n      <td>27705</td>\n      <td>1984</td>\n      <td>Alfa Romeo</td>\n      <td>GT V6 2.5</td>\n      <td>Minicompact Cars</td>\n      <td>NaN</td>\n      <td>Manual 5-Speed</td>\n      <td>NaN</td>\n      <td>9005</td>\n      <td>(FFS) CA model</td>\n      <td>...</td>\n      <td>0.0</td>\n      <td>0</td>\n      <td>0</td>\n      <td>0</td>\n      <td>0</td>\n      <td>0.0</td>\n      <td>0.0</td>\n      <td>NaN</td>\n      <td>0.00</td>\n      <td>0.0</td>\n    </tr>\n    <tr>\n      <th>2</th>\n      <td>26561</td>\n      <td>1984</td>\n      <td>Alfa Romeo</td>\n      <td>Spider Veloce 2000</td>\n      <td>Two Seaters</td>\n      <td>NaN</td>\n      <td>Manual 5-Speed</td>\n      <td>NaN</td>\n      <td>9002</td>\n      <td>(FFS)</td>\n      <td>...</td>\n      <td>0.0</td>\n      <td>0</td>\n      <td>0</td>\n      <td>0</td>\n      <td>0</td>\n      <td>0.0</td>\n      <td>0.0</td>\n      <td>NaN</td>\n      <td>0.00</td>\n      <td>0.0</td>\n    </tr>\n    <tr>\n      <th>3</th>\n      <td>27681</td>\n      <td>1984</td>\n      <td>Alfa Romeo</td>\n      <td>Spider Veloce 2000</td>\n      <td>Two Seaters</td>\n      <td>NaN</td>\n      <td>Manual 5-Speed</td>\n      <td>NaN</td>\n      <td>9006</td>\n      <td>(FFS) CA model</td>\n      <td>...</td>\n      <td>0.0</td>\n      <td>0</td>\n      <td>0</td>\n      <td>0</td>\n      <td>0</td>\n      <td>0.0</td>\n      <td>0.0</td>\n      <td>NaN</td>\n      <td>0.00</td>\n      <td>0.0</td>\n    </tr>\n    <tr>\n      <th>4</th>\n      <td>27550</td>\n      <td>1984</td>\n      <td>AM General</td>\n      <td>DJ Po Vehicle 2WD</td>\n      <td>Special Purpose Vehicle 2WD</td>\n      <td>2-Wheel Drive</td>\n      <td>Automatic 3-Speed</td>\n      <td>NaN</td>\n      <td>1830</td>\n      <td>(FFS)</td>\n      <td>...</td>\n      <td>0.0</td>\n      <td>0</td>\n      <td>0</td>\n      <td>0</td>\n      <td>0</td>\n      <td>0.0</td>\n      <td>0.0</td>\n      <td>NaN</td>\n      <td>0.00</td>\n      <td>0.0</td>\n    </tr>\n    <tr>\n      <th>...</th>\n      <td>...</td>\n      <td>...</td>\n      <td>...</td>\n      <td>...</td>\n      <td>...</td>\n      <td>...</td>\n      <td>...</td>\n      <td>...</td>\n      <td>...</td>\n      <td>...</td>\n      <td>...</td>\n      <td>...</td>\n      <td>...</td>\n      <td>...</td>\n      <td>...</td>\n      <td>...</td>\n      <td>...</td>\n      <td>...</td>\n      <td>...</td>\n      <td>...</td>\n      <td>...</td>\n    </tr>\n    <tr>\n      <th>38108</th>\n      <td>37564</td>\n      <td>2017</td>\n      <td>Volvo</td>\n      <td>XC60 FWD</td>\n      <td>Small Sport Utility Vehicle 2WD</td>\n      <td>Front-Wheel Drive</td>\n      <td>Automatic (S8)</td>\n      <td>NaN</td>\n      <td>90</td>\n      <td>SIDI</td>\n      <td>...</td>\n      <td>0.0</td>\n      <td>0</td>\n      <td>0</td>\n      <td>0</td>\n      <td>0</td>\n      <td>0.0</td>\n      <td>0.0</td>\n      <td>NaN</td>\n      <td>0.00</td>\n      <td>0.0</td>\n    </tr>\n    <tr>\n      <th>38109</th>\n      <td>37547</td>\n      <td>2017</td>\n      <td>Volvo</td>\n      <td>XC90 AWD</td>\n      <td>Standard Sport Utility Vehicle 4WD</td>\n      <td>All-Wheel Drive</td>\n      <td>Automatic (S8)</td>\n      <td>NaN</td>\n      <td>52</td>\n      <td>SIDI</td>\n      <td>...</td>\n      <td>0.0</td>\n      <td>0</td>\n      <td>0</td>\n      <td>0</td>\n      <td>0</td>\n      <td>0.0</td>\n      <td>0.0</td>\n      <td>NaN</td>\n      <td>0.00</td>\n      <td>0.0</td>\n    </tr>\n    <tr>\n      <th>38110</th>\n      <td>37548</td>\n      <td>2017</td>\n      <td>Volvo</td>\n      <td>XC90 AWD</td>\n      <td>Standard Sport Utility Vehicle 4WD</td>\n      <td>All-Wheel Drive</td>\n      <td>Automatic (S8)</td>\n      <td>NaN</td>\n      <td>53</td>\n      <td>SIDI</td>\n      <td>...</td>\n      <td>0.0</td>\n      <td>0</td>\n      <td>0</td>\n      <td>0</td>\n      <td>0</td>\n      <td>0.0</td>\n      <td>0.0</td>\n      <td>NaN</td>\n      <td>0.00</td>\n      <td>0.0</td>\n    </tr>\n    <tr>\n      <th>38111</th>\n      <td>37703</td>\n      <td>2017</td>\n      <td>Volvo</td>\n      <td>XC90 AWD PHEV</td>\n      <td>Standard Sport Utility Vehicle 4WD</td>\n      <td>All-Wheel Drive</td>\n      <td>Automatic (S8)</td>\n      <td>NaN</td>\n      <td>54</td>\n      <td>SIDI; PHEV</td>\n      <td>...</td>\n      <td>0.0</td>\n      <td>29</td>\n      <td>32</td>\n      <td>30</td>\n      <td>0</td>\n      <td>0.0</td>\n      <td>0.0</td>\n      <td>NaN</td>\n      <td>13.84</td>\n      <td>13.3</td>\n    </tr>\n    <tr>\n      <th>38112</th>\n      <td>37687</td>\n      <td>2017</td>\n      <td>Volvo</td>\n      <td>XC90 FWD</td>\n      <td>Standard Sport Utility Vehicle 2WD</td>\n      <td>Front-Wheel Drive</td>\n      <td>Automatic (S8)</td>\n      <td>NaN</td>\n      <td>50</td>\n      <td>SIDI</td>\n      <td>...</td>\n      <td>0.0</td>\n      <td>0</td>\n      <td>0</td>\n      <td>0</td>\n      <td>0</td>\n      <td>0.0</td>\n      <td>0.0</td>\n      <td>NaN</td>\n      <td>0.00</td>\n      <td>0.0</td>\n    </tr>\n  </tbody>\n</table>\n<p>38113 rows × 81 columns</p>\n</div>"
     },
     "execution_count": 8,
     "metadata": {},
     "output_type": "execute_result"
    }
   ],
   "source": [
    "raw_data"
   ],
   "metadata": {
    "collapsed": false,
    "ExecuteTime": {
     "end_time": "2024-05-18T12:48:33.384945Z",
     "start_time": "2024-05-18T12:48:33.330605Z"
    }
   },
   "id": "2b5df724deecaeea",
   "execution_count": 8
  },
  {
   "cell_type": "code",
   "outputs": [
    {
     "name": "stdout",
     "output_type": "stream",
     "text": [
      "<class 'pandas.core.frame.DataFrame'>\n",
      "RangeIndex: 38113 entries, 0 to 38112\n",
      "Data columns (total 71 columns):\n",
      " #   Column                             Non-Null Count  Dtype   \n",
      "---  ------                             --------------  -----   \n",
      " 0   vehicle_id                         38113 non-null  int64   \n",
      " 1   year                               38113 non-null  int64   \n",
      " 2   make                               38113 non-null  category\n",
      " 3   model                              38113 non-null  category\n",
      " 4   class                              38113 non-null  category\n",
      " 5   drive                              38113 non-null  category\n",
      " 6   transmission                       38113 non-null  category\n",
      " 7   transmission_type                  38113 non-null  category\n",
      " 8   engine_index                       38113 non-null  int64   \n",
      " 9   engine_descriptor                  38113 non-null  category\n",
      " 10  engine_cylinders                   38113 non-null  float64 \n",
      " 11  engine_displacement                38113 non-null  float64 \n",
      " 12  turbocharger                       38113 non-null  bool    \n",
      " 13  fuel_type                          38113 non-null  category\n",
      " 14  fuel_type_1                        38113 non-null  category\n",
      " 15  city_mpg_ft1                       38113 non-null  int64   \n",
      " 16  unrounded_city_mpg_ft1             38113 non-null  float64 \n",
      " 17  city_mpg_ft2                       38113 non-null  int64   \n",
      " 18  unrounded_city_mpg_ft2             38113 non-null  float64 \n",
      " 19  city_gasoline_consumption_cd       38113 non-null  float64 \n",
      " 20  city_electricity_consumption       38113 non-null  float64 \n",
      " 21  city_utility_factor                38113 non-null  float64 \n",
      " 22  highway_mpg_ft1                    38113 non-null  int64   \n",
      " 23  unrounded_highway_mpg_ft1          38113 non-null  float64 \n",
      " 24  highway_mpg_ft2                    38113 non-null  int64   \n",
      " 25  unrounded_highway_mpg_ft2          38113 non-null  float64 \n",
      " 26  highway_gasoline_consumption_cd    38113 non-null  float64 \n",
      " 27  highway_electricity_consumption    38113 non-null  float64 \n",
      " 28  highway_utility_factor             38113 non-null  float64 \n",
      " 29  unadjusted_city_mpg_ft1            38113 non-null  float64 \n",
      " 30  unadjusted_highway_mpg_ft1         38113 non-null  float64 \n",
      " 31  unadjusted_city_mpg_ft2            38113 non-null  float64 \n",
      " 32  unadjusted_highway_mpg_ft2         38113 non-null  float64 \n",
      " 33  combined_mpg_ft1                   38113 non-null  int64   \n",
      " 34  unrounded_combined_mpg_ft1         38113 non-null  float64 \n",
      " 35  combined_mpg_ft2                   38113 non-null  int64   \n",
      " 36  unrounded_combined_mpg_ft2         38113 non-null  float64 \n",
      " 37  combined_electricity_consumption   38113 non-null  float64 \n",
      " 38  combined_gasoline_consumption_cd   38113 non-null  float64 \n",
      " 39  combined_utility_factor            38113 non-null  float64 \n",
      " 40  annual_fuel_cost_ft1               38113 non-null  int64   \n",
      " 41  annual_fuel_cost_ft2               38113 non-null  int64   \n",
      " 42  save_or_spend_5_year               38113 non-null  int64   \n",
      " 43  annual_consumption_in_barrels_ft1  38113 non-null  float64 \n",
      " 44  annual_consumption_in_barrels_ft2  38113 non-null  float64 \n",
      " 45  tailpipe_co2_ft1                   38113 non-null  int64   \n",
      " 46  tailpipe_co2_in_grams_mile_ft1     38113 non-null  float64 \n",
      " 47  tailpipe_co2_ft2                   38113 non-null  int64   \n",
      " 48  tailpipe_co2_in_grams_mile_ft2     38113 non-null  float64 \n",
      " 49  fuel_economy_score                 38113 non-null  int64   \n",
      " 50  ghg_score                          38113 non-null  int64   \n",
      " 51  ghg_score_alt_fuel                 38113 non-null  int64   \n",
      " 52  my_mpg_data                        38113 non-null  bool    \n",
      " 53  x2d_passenger_volume               38113 non-null  int64   \n",
      " 54  x2d_luggage_volume                 38113 non-null  int64   \n",
      " 55  x4d_passenger_volume               38113 non-null  int64   \n",
      " 56  x4d_luggage_volume                 38113 non-null  int64   \n",
      " 57  hatchback_passenger_volume         38113 non-null  int64   \n",
      " 58  hatchback_luggage_volume           38113 non-null  int64   \n",
      " 59  gasoline_electricity_blended_cd    38113 non-null  bool    \n",
      " 60  hours_to_charge_120v               38113 non-null  int64   \n",
      " 61  hours_to_charge_240v               38113 non-null  float64 \n",
      " 62  hours_to_charge_ac_240v            38113 non-null  float64 \n",
      " 63  composite_city_mpg                 38113 non-null  int64   \n",
      " 64  composite_highway_mpg              38113 non-null  int64   \n",
      " 65  composite_combined_mpg             38113 non-null  int64   \n",
      " 66  range_ft1                          38113 non-null  int64   \n",
      " 67  city_range_ft1                     38113 non-null  float64 \n",
      " 68  highway_range_ft1                  38113 non-null  float64 \n",
      " 69  city_range_ft2                     38113 non-null  float64 \n",
      " 70  highway_range_ft2                  38113 non-null  float64 \n",
      "dtypes: bool(3), category(9), float64(31), int64(28)\n",
      "memory usage: 17.9 MB\n"
     ]
    }
   ],
   "source": [
    "raw_data.info()"
   ],
   "metadata": {
    "collapsed": false
   },
   "id": "6c14b35edd1b200",
   "execution_count": 72
  },
  {
   "cell_type": "code",
   "outputs": [
    {
     "data": {
      "text/plain": "       vehicle_id  year        make               model  \\\n0           26587  1984  Alfa Romeo           GT V6 2.5   \n1           27705  1984  Alfa Romeo           GT V6 2.5   \n2           26561  1984  Alfa Romeo  Spider Veloce 2000   \n3           27681  1984  Alfa Romeo  Spider Veloce 2000   \n4           27550  1984  AM General   DJ Po Vehicle 2WD   \n...           ...   ...         ...                 ...   \n38108       37564  2017       Volvo            XC60 FWD   \n38109       37547  2017       Volvo            XC90 AWD   \n38110       37548  2017       Volvo            XC90 AWD   \n38111       37703  2017       Volvo       XC90 AWD PHEV   \n38112       37687  2017       Volvo            XC90 FWD   \n\n                                    class              drive  \\\n0                        Minicompact Cars                NaN   \n1                        Minicompact Cars                NaN   \n2                             Two Seaters                NaN   \n3                             Two Seaters                NaN   \n4             Special Purpose Vehicle 2WD      2-Wheel Drive   \n...                                   ...                ...   \n38108     Small Sport Utility Vehicle 2WD  Front-Wheel Drive   \n38109  Standard Sport Utility Vehicle 4WD    All-Wheel Drive   \n38110  Standard Sport Utility Vehicle 4WD    All-Wheel Drive   \n38111  Standard Sport Utility Vehicle 4WD    All-Wheel Drive   \n38112  Standard Sport Utility Vehicle 2WD  Front-Wheel Drive   \n\n            transmission transmission_type  engine_index engine_descriptor  \\\n0         Manual 5-Speed               NaN          9001             (FFS)   \n1         Manual 5-Speed               NaN          9005    (FFS) CA model   \n2         Manual 5-Speed               NaN          9002             (FFS)   \n3         Manual 5-Speed               NaN          9006    (FFS) CA model   \n4      Automatic 3-Speed               NaN          1830             (FFS)   \n...                  ...               ...           ...               ...   \n38108     Automatic (S8)               NaN            90              SIDI   \n38109     Automatic (S8)               NaN            52              SIDI   \n38110     Automatic (S8)               NaN            53              SIDI   \n38111     Automatic (S8)               NaN            54        SIDI; PHEV   \n38112     Automatic (S8)               NaN            50              SIDI   \n\n       ...  hours_to_charge_240v  hours_to_charge_ac_240v composite_city_mpg  \\\n0      ...                   0.0                      0.0                  0   \n1      ...                   0.0                      0.0                  0   \n2      ...                   0.0                      0.0                  0   \n3      ...                   0.0                      0.0                  0   \n4      ...                   0.0                      0.0                  0   \n...    ...                   ...                      ...                ...   \n38108  ...                   0.0                      0.0                  0   \n38109  ...                   0.0                      0.0                  0   \n38110  ...                   0.0                      0.0                  0   \n38111  ...                   3.0                      0.0                 29   \n38112  ...                   0.0                      0.0                  0   \n\n      composite_highway_mpg composite_combined_mpg  range_ft1  city_range_ft1  \\\n0                         0                      0          0             0.0   \n1                         0                      0          0             0.0   \n2                         0                      0          0             0.0   \n3                         0                      0          0             0.0   \n4                         0                      0          0             0.0   \n...                     ...                    ...        ...             ...   \n38108                     0                      0          0             0.0   \n38109                     0                      0          0             0.0   \n38110                     0                      0          0             0.0   \n38111                    32                     30          0             0.0   \n38112                     0                      0          0             0.0   \n\n       highway_range_ft1  city_range_ft2  highway_range_ft2  \n0                    0.0            0.00                0.0  \n1                    0.0            0.00                0.0  \n2                    0.0            0.00                0.0  \n3                    0.0            0.00                0.0  \n4                    0.0            0.00                0.0  \n...                  ...             ...                ...  \n38108                0.0            0.00                0.0  \n38109                0.0            0.00                0.0  \n38110                0.0            0.00                0.0  \n38111                0.0           13.84               13.3  \n38112                0.0            0.00                0.0  \n\n[38113 rows x 71 columns]",
      "text/html": "<div>\n<style scoped>\n    .dataframe tbody tr th:only-of-type {\n        vertical-align: middle;\n    }\n\n    .dataframe tbody tr th {\n        vertical-align: top;\n    }\n\n    .dataframe thead th {\n        text-align: right;\n    }\n</style>\n<table border=\"1\" class=\"dataframe\">\n  <thead>\n    <tr style=\"text-align: right;\">\n      <th></th>\n      <th>vehicle_id</th>\n      <th>year</th>\n      <th>make</th>\n      <th>model</th>\n      <th>class</th>\n      <th>drive</th>\n      <th>transmission</th>\n      <th>transmission_type</th>\n      <th>engine_index</th>\n      <th>engine_descriptor</th>\n      <th>...</th>\n      <th>hours_to_charge_240v</th>\n      <th>hours_to_charge_ac_240v</th>\n      <th>composite_city_mpg</th>\n      <th>composite_highway_mpg</th>\n      <th>composite_combined_mpg</th>\n      <th>range_ft1</th>\n      <th>city_range_ft1</th>\n      <th>highway_range_ft1</th>\n      <th>city_range_ft2</th>\n      <th>highway_range_ft2</th>\n    </tr>\n  </thead>\n  <tbody>\n    <tr>\n      <th>0</th>\n      <td>26587</td>\n      <td>1984</td>\n      <td>Alfa Romeo</td>\n      <td>GT V6 2.5</td>\n      <td>Minicompact Cars</td>\n      <td>NaN</td>\n      <td>Manual 5-Speed</td>\n      <td>NaN</td>\n      <td>9001</td>\n      <td>(FFS)</td>\n      <td>...</td>\n      <td>0.0</td>\n      <td>0.0</td>\n      <td>0</td>\n      <td>0</td>\n      <td>0</td>\n      <td>0</td>\n      <td>0.0</td>\n      <td>0.0</td>\n      <td>0.00</td>\n      <td>0.0</td>\n    </tr>\n    <tr>\n      <th>1</th>\n      <td>27705</td>\n      <td>1984</td>\n      <td>Alfa Romeo</td>\n      <td>GT V6 2.5</td>\n      <td>Minicompact Cars</td>\n      <td>NaN</td>\n      <td>Manual 5-Speed</td>\n      <td>NaN</td>\n      <td>9005</td>\n      <td>(FFS) CA model</td>\n      <td>...</td>\n      <td>0.0</td>\n      <td>0.0</td>\n      <td>0</td>\n      <td>0</td>\n      <td>0</td>\n      <td>0</td>\n      <td>0.0</td>\n      <td>0.0</td>\n      <td>0.00</td>\n      <td>0.0</td>\n    </tr>\n    <tr>\n      <th>2</th>\n      <td>26561</td>\n      <td>1984</td>\n      <td>Alfa Romeo</td>\n      <td>Spider Veloce 2000</td>\n      <td>Two Seaters</td>\n      <td>NaN</td>\n      <td>Manual 5-Speed</td>\n      <td>NaN</td>\n      <td>9002</td>\n      <td>(FFS)</td>\n      <td>...</td>\n      <td>0.0</td>\n      <td>0.0</td>\n      <td>0</td>\n      <td>0</td>\n      <td>0</td>\n      <td>0</td>\n      <td>0.0</td>\n      <td>0.0</td>\n      <td>0.00</td>\n      <td>0.0</td>\n    </tr>\n    <tr>\n      <th>3</th>\n      <td>27681</td>\n      <td>1984</td>\n      <td>Alfa Romeo</td>\n      <td>Spider Veloce 2000</td>\n      <td>Two Seaters</td>\n      <td>NaN</td>\n      <td>Manual 5-Speed</td>\n      <td>NaN</td>\n      <td>9006</td>\n      <td>(FFS) CA model</td>\n      <td>...</td>\n      <td>0.0</td>\n      <td>0.0</td>\n      <td>0</td>\n      <td>0</td>\n      <td>0</td>\n      <td>0</td>\n      <td>0.0</td>\n      <td>0.0</td>\n      <td>0.00</td>\n      <td>0.0</td>\n    </tr>\n    <tr>\n      <th>4</th>\n      <td>27550</td>\n      <td>1984</td>\n      <td>AM General</td>\n      <td>DJ Po Vehicle 2WD</td>\n      <td>Special Purpose Vehicle 2WD</td>\n      <td>2-Wheel Drive</td>\n      <td>Automatic 3-Speed</td>\n      <td>NaN</td>\n      <td>1830</td>\n      <td>(FFS)</td>\n      <td>...</td>\n      <td>0.0</td>\n      <td>0.0</td>\n      <td>0</td>\n      <td>0</td>\n      <td>0</td>\n      <td>0</td>\n      <td>0.0</td>\n      <td>0.0</td>\n      <td>0.00</td>\n      <td>0.0</td>\n    </tr>\n    <tr>\n      <th>...</th>\n      <td>...</td>\n      <td>...</td>\n      <td>...</td>\n      <td>...</td>\n      <td>...</td>\n      <td>...</td>\n      <td>...</td>\n      <td>...</td>\n      <td>...</td>\n      <td>...</td>\n      <td>...</td>\n      <td>...</td>\n      <td>...</td>\n      <td>...</td>\n      <td>...</td>\n      <td>...</td>\n      <td>...</td>\n      <td>...</td>\n      <td>...</td>\n      <td>...</td>\n      <td>...</td>\n    </tr>\n    <tr>\n      <th>38108</th>\n      <td>37564</td>\n      <td>2017</td>\n      <td>Volvo</td>\n      <td>XC60 FWD</td>\n      <td>Small Sport Utility Vehicle 2WD</td>\n      <td>Front-Wheel Drive</td>\n      <td>Automatic (S8)</td>\n      <td>NaN</td>\n      <td>90</td>\n      <td>SIDI</td>\n      <td>...</td>\n      <td>0.0</td>\n      <td>0.0</td>\n      <td>0</td>\n      <td>0</td>\n      <td>0</td>\n      <td>0</td>\n      <td>0.0</td>\n      <td>0.0</td>\n      <td>0.00</td>\n      <td>0.0</td>\n    </tr>\n    <tr>\n      <th>38109</th>\n      <td>37547</td>\n      <td>2017</td>\n      <td>Volvo</td>\n      <td>XC90 AWD</td>\n      <td>Standard Sport Utility Vehicle 4WD</td>\n      <td>All-Wheel Drive</td>\n      <td>Automatic (S8)</td>\n      <td>NaN</td>\n      <td>52</td>\n      <td>SIDI</td>\n      <td>...</td>\n      <td>0.0</td>\n      <td>0.0</td>\n      <td>0</td>\n      <td>0</td>\n      <td>0</td>\n      <td>0</td>\n      <td>0.0</td>\n      <td>0.0</td>\n      <td>0.00</td>\n      <td>0.0</td>\n    </tr>\n    <tr>\n      <th>38110</th>\n      <td>37548</td>\n      <td>2017</td>\n      <td>Volvo</td>\n      <td>XC90 AWD</td>\n      <td>Standard Sport Utility Vehicle 4WD</td>\n      <td>All-Wheel Drive</td>\n      <td>Automatic (S8)</td>\n      <td>NaN</td>\n      <td>53</td>\n      <td>SIDI</td>\n      <td>...</td>\n      <td>0.0</td>\n      <td>0.0</td>\n      <td>0</td>\n      <td>0</td>\n      <td>0</td>\n      <td>0</td>\n      <td>0.0</td>\n      <td>0.0</td>\n      <td>0.00</td>\n      <td>0.0</td>\n    </tr>\n    <tr>\n      <th>38111</th>\n      <td>37703</td>\n      <td>2017</td>\n      <td>Volvo</td>\n      <td>XC90 AWD PHEV</td>\n      <td>Standard Sport Utility Vehicle 4WD</td>\n      <td>All-Wheel Drive</td>\n      <td>Automatic (S8)</td>\n      <td>NaN</td>\n      <td>54</td>\n      <td>SIDI; PHEV</td>\n      <td>...</td>\n      <td>3.0</td>\n      <td>0.0</td>\n      <td>29</td>\n      <td>32</td>\n      <td>30</td>\n      <td>0</td>\n      <td>0.0</td>\n      <td>0.0</td>\n      <td>13.84</td>\n      <td>13.3</td>\n    </tr>\n    <tr>\n      <th>38112</th>\n      <td>37687</td>\n      <td>2017</td>\n      <td>Volvo</td>\n      <td>XC90 FWD</td>\n      <td>Standard Sport Utility Vehicle 2WD</td>\n      <td>Front-Wheel Drive</td>\n      <td>Automatic (S8)</td>\n      <td>NaN</td>\n      <td>50</td>\n      <td>SIDI</td>\n      <td>...</td>\n      <td>0.0</td>\n      <td>0.0</td>\n      <td>0</td>\n      <td>0</td>\n      <td>0</td>\n      <td>0</td>\n      <td>0.0</td>\n      <td>0.0</td>\n      <td>0.00</td>\n      <td>0.0</td>\n    </tr>\n  </tbody>\n</table>\n<p>38113 rows × 71 columns</p>\n</div>"
     },
     "execution_count": 74,
     "metadata": {},
     "output_type": "execute_result"
    }
   ],
   "source": [
    "raw_data.drop(columns=[\"range_ft2\",\"alternate_charger\",\"vehicle_charger\",\"manufacturer_code\",\"electric_motor\",\"alternative_fuel_technology\",\"start_stop_technology\",\"gas_guzzler_tax\",\"fuel_type_2\",\"supercharger\"],inplace=True)\n",
    "raw_data"
   ],
   "metadata": {
    "collapsed": false,
    "ExecuteTime": {
     "end_time": "2024-05-18T13:48:23.878736Z",
     "start_time": "2024-05-18T13:48:23.777374Z"
    }
   },
   "id": "54c4145b3d378d1a",
   "execution_count": 74
  },
  {
   "cell_type": "markdown",
   "source": [
    "Turbocharger Nan = False"
   ],
   "metadata": {
    "collapsed": false
   },
   "id": "e7256f0a9250cc93"
  },
  {
   "cell_type": "code",
   "outputs": [],
   "source": [
    "import numpy as np"
   ],
   "metadata": {
    "collapsed": false,
    "ExecuteTime": {
     "end_time": "2024-05-18T13:54:18.871025Z",
     "start_time": "2024-05-18T13:54:18.858692Z"
    }
   },
   "id": "81790cb6860f85cf",
   "execution_count": 95
  },
  {
   "cell_type": "code",
   "outputs": [],
   "source": [
    "clean_df = raw_data"
   ],
   "metadata": {
    "collapsed": false,
    "ExecuteTime": {
     "end_time": "2024-05-18T13:55:38.540182Z",
     "start_time": "2024-05-18T13:55:38.532514Z"
    }
   },
   "id": "885b9de30d431b3b",
   "execution_count": 113
  },
  {
   "cell_type": "code",
   "outputs": [],
   "source": [
    "clean_df[\"turbocharger\"].fillna(False,inplace=True)"
   ],
   "metadata": {
    "collapsed": false,
    "ExecuteTime": {
     "end_time": "2024-05-18T13:57:30.167112Z",
     "start_time": "2024-05-18T13:57:30.134048Z"
    }
   },
   "id": "863621443486fa38",
   "execution_count": 120
  },
  {
   "cell_type": "code",
   "outputs": [],
   "source": [
    "clean_df = clean_df[clean_df.drive.isna() == False]"
   ],
   "metadata": {
    "collapsed": false,
    "ExecuteTime": {
     "end_time": "2024-05-18T13:59:22.661185Z",
     "start_time": "2024-05-18T13:59:22.624679Z"
    }
   },
   "id": "d0e9a74a01a5c571",
   "execution_count": 128
  },
  {
   "cell_type": "code",
   "outputs": [
    {
     "data": {
      "text/plain": "       vehicle_id  year                         make              model  \\\n4           27550  1984                   AM General  DJ Po Vehicle 2WD   \n5           28426  1984                   AM General  DJ Po Vehicle 2WD   \n6           27549  1984                   AM General   FJ8c Post Office   \n7           28425  1984                   AM General   FJ8c Post Office   \n8           27593  1984  American Motors Corporation          Eagle 4WD   \n...           ...   ...                          ...                ...   \n38108       37564  2017                        Volvo           XC60 FWD   \n38109       37547  2017                        Volvo           XC90 AWD   \n38110       37548  2017                        Volvo           XC90 AWD   \n38111       37703  2017                        Volvo      XC90 AWD PHEV   \n38112       37687  2017                        Volvo           XC90 FWD   \n\n                                    class                       drive  \\\n4             Special Purpose Vehicle 2WD               2-Wheel Drive   \n5             Special Purpose Vehicle 2WD               2-Wheel Drive   \n6             Special Purpose Vehicle 2WD               2-Wheel Drive   \n7             Special Purpose Vehicle 2WD               2-Wheel Drive   \n8             Special Purpose Vehicle 4WD  4-Wheel or All-Wheel Drive   \n...                                   ...                         ...   \n38108     Small Sport Utility Vehicle 2WD           Front-Wheel Drive   \n38109  Standard Sport Utility Vehicle 4WD             All-Wheel Drive   \n38110  Standard Sport Utility Vehicle 4WD             All-Wheel Drive   \n38111  Standard Sport Utility Vehicle 4WD             All-Wheel Drive   \n38112  Standard Sport Utility Vehicle 2WD           Front-Wheel Drive   \n\n            transmission transmission_type  engine_index engine_descriptor  \\\n4      Automatic 3-Speed               NaN          1830             (FFS)   \n5      Automatic 3-Speed               NaN          1880    (FFS) CA model   \n6      Automatic 3-Speed               NaN          1831             (FFS)   \n7      Automatic 3-Speed               NaN          1881    (FFS) CA model   \n8      Automatic 3-Speed               NaN          1524             (FFS)   \n...                  ...               ...           ...               ...   \n38108     Automatic (S8)               NaN            90              SIDI   \n38109     Automatic (S8)               NaN            52              SIDI   \n38110     Automatic (S8)               NaN            53              SIDI   \n38111     Automatic (S8)               NaN            54        SIDI; PHEV   \n38112     Automatic (S8)               NaN            50              SIDI   \n\n       ...  hours_to_charge_240v  hours_to_charge_ac_240v  composite_city_mpg  \\\n4      ...                   0.0                      0.0                   0   \n5      ...                   0.0                      0.0                   0   \n6      ...                   0.0                      0.0                   0   \n7      ...                   0.0                      0.0                   0   \n8      ...                   0.0                      0.0                   0   \n...    ...                   ...                      ...                 ...   \n38108  ...                   0.0                      0.0                   0   \n38109  ...                   0.0                      0.0                   0   \n38110  ...                   0.0                      0.0                   0   \n38111  ...                   3.0                      0.0                  29   \n38112  ...                   0.0                      0.0                   0   \n\n      composite_highway_mpg composite_combined_mpg  range_ft1  city_range_ft1  \\\n4                         0                      0          0             0.0   \n5                         0                      0          0             0.0   \n6                         0                      0          0             0.0   \n7                         0                      0          0             0.0   \n8                         0                      0          0             0.0   \n...                     ...                    ...        ...             ...   \n38108                     0                      0          0             0.0   \n38109                     0                      0          0             0.0   \n38110                     0                      0          0             0.0   \n38111                    32                     30          0             0.0   \n38112                     0                      0          0             0.0   \n\n       highway_range_ft1  city_range_ft2  highway_range_ft2  \n4                    0.0            0.00                0.0  \n5                    0.0            0.00                0.0  \n6                    0.0            0.00                0.0  \n7                    0.0            0.00                0.0  \n8                    0.0            0.00                0.0  \n...                  ...             ...                ...  \n38108                0.0            0.00                0.0  \n38109                0.0            0.00                0.0  \n38110                0.0            0.00                0.0  \n38111                0.0           13.84               13.3  \n38112                0.0            0.00                0.0  \n\n[36924 rows x 71 columns]",
      "text/html": "<div>\n<style scoped>\n    .dataframe tbody tr th:only-of-type {\n        vertical-align: middle;\n    }\n\n    .dataframe tbody tr th {\n        vertical-align: top;\n    }\n\n    .dataframe thead th {\n        text-align: right;\n    }\n</style>\n<table border=\"1\" class=\"dataframe\">\n  <thead>\n    <tr style=\"text-align: right;\">\n      <th></th>\n      <th>vehicle_id</th>\n      <th>year</th>\n      <th>make</th>\n      <th>model</th>\n      <th>class</th>\n      <th>drive</th>\n      <th>transmission</th>\n      <th>transmission_type</th>\n      <th>engine_index</th>\n      <th>engine_descriptor</th>\n      <th>...</th>\n      <th>hours_to_charge_240v</th>\n      <th>hours_to_charge_ac_240v</th>\n      <th>composite_city_mpg</th>\n      <th>composite_highway_mpg</th>\n      <th>composite_combined_mpg</th>\n      <th>range_ft1</th>\n      <th>city_range_ft1</th>\n      <th>highway_range_ft1</th>\n      <th>city_range_ft2</th>\n      <th>highway_range_ft2</th>\n    </tr>\n  </thead>\n  <tbody>\n    <tr>\n      <th>4</th>\n      <td>27550</td>\n      <td>1984</td>\n      <td>AM General</td>\n      <td>DJ Po Vehicle 2WD</td>\n      <td>Special Purpose Vehicle 2WD</td>\n      <td>2-Wheel Drive</td>\n      <td>Automatic 3-Speed</td>\n      <td>NaN</td>\n      <td>1830</td>\n      <td>(FFS)</td>\n      <td>...</td>\n      <td>0.0</td>\n      <td>0.0</td>\n      <td>0</td>\n      <td>0</td>\n      <td>0</td>\n      <td>0</td>\n      <td>0.0</td>\n      <td>0.0</td>\n      <td>0.00</td>\n      <td>0.0</td>\n    </tr>\n    <tr>\n      <th>5</th>\n      <td>28426</td>\n      <td>1984</td>\n      <td>AM General</td>\n      <td>DJ Po Vehicle 2WD</td>\n      <td>Special Purpose Vehicle 2WD</td>\n      <td>2-Wheel Drive</td>\n      <td>Automatic 3-Speed</td>\n      <td>NaN</td>\n      <td>1880</td>\n      <td>(FFS) CA model</td>\n      <td>...</td>\n      <td>0.0</td>\n      <td>0.0</td>\n      <td>0</td>\n      <td>0</td>\n      <td>0</td>\n      <td>0</td>\n      <td>0.0</td>\n      <td>0.0</td>\n      <td>0.00</td>\n      <td>0.0</td>\n    </tr>\n    <tr>\n      <th>6</th>\n      <td>27549</td>\n      <td>1984</td>\n      <td>AM General</td>\n      <td>FJ8c Post Office</td>\n      <td>Special Purpose Vehicle 2WD</td>\n      <td>2-Wheel Drive</td>\n      <td>Automatic 3-Speed</td>\n      <td>NaN</td>\n      <td>1831</td>\n      <td>(FFS)</td>\n      <td>...</td>\n      <td>0.0</td>\n      <td>0.0</td>\n      <td>0</td>\n      <td>0</td>\n      <td>0</td>\n      <td>0</td>\n      <td>0.0</td>\n      <td>0.0</td>\n      <td>0.00</td>\n      <td>0.0</td>\n    </tr>\n    <tr>\n      <th>7</th>\n      <td>28425</td>\n      <td>1984</td>\n      <td>AM General</td>\n      <td>FJ8c Post Office</td>\n      <td>Special Purpose Vehicle 2WD</td>\n      <td>2-Wheel Drive</td>\n      <td>Automatic 3-Speed</td>\n      <td>NaN</td>\n      <td>1881</td>\n      <td>(FFS) CA model</td>\n      <td>...</td>\n      <td>0.0</td>\n      <td>0.0</td>\n      <td>0</td>\n      <td>0</td>\n      <td>0</td>\n      <td>0</td>\n      <td>0.0</td>\n      <td>0.0</td>\n      <td>0.00</td>\n      <td>0.0</td>\n    </tr>\n    <tr>\n      <th>8</th>\n      <td>27593</td>\n      <td>1984</td>\n      <td>American Motors Corporation</td>\n      <td>Eagle 4WD</td>\n      <td>Special Purpose Vehicle 4WD</td>\n      <td>4-Wheel or All-Wheel Drive</td>\n      <td>Automatic 3-Speed</td>\n      <td>NaN</td>\n      <td>1524</td>\n      <td>(FFS)</td>\n      <td>...</td>\n      <td>0.0</td>\n      <td>0.0</td>\n      <td>0</td>\n      <td>0</td>\n      <td>0</td>\n      <td>0</td>\n      <td>0.0</td>\n      <td>0.0</td>\n      <td>0.00</td>\n      <td>0.0</td>\n    </tr>\n    <tr>\n      <th>...</th>\n      <td>...</td>\n      <td>...</td>\n      <td>...</td>\n      <td>...</td>\n      <td>...</td>\n      <td>...</td>\n      <td>...</td>\n      <td>...</td>\n      <td>...</td>\n      <td>...</td>\n      <td>...</td>\n      <td>...</td>\n      <td>...</td>\n      <td>...</td>\n      <td>...</td>\n      <td>...</td>\n      <td>...</td>\n      <td>...</td>\n      <td>...</td>\n      <td>...</td>\n      <td>...</td>\n    </tr>\n    <tr>\n      <th>38108</th>\n      <td>37564</td>\n      <td>2017</td>\n      <td>Volvo</td>\n      <td>XC60 FWD</td>\n      <td>Small Sport Utility Vehicle 2WD</td>\n      <td>Front-Wheel Drive</td>\n      <td>Automatic (S8)</td>\n      <td>NaN</td>\n      <td>90</td>\n      <td>SIDI</td>\n      <td>...</td>\n      <td>0.0</td>\n      <td>0.0</td>\n      <td>0</td>\n      <td>0</td>\n      <td>0</td>\n      <td>0</td>\n      <td>0.0</td>\n      <td>0.0</td>\n      <td>0.00</td>\n      <td>0.0</td>\n    </tr>\n    <tr>\n      <th>38109</th>\n      <td>37547</td>\n      <td>2017</td>\n      <td>Volvo</td>\n      <td>XC90 AWD</td>\n      <td>Standard Sport Utility Vehicle 4WD</td>\n      <td>All-Wheel Drive</td>\n      <td>Automatic (S8)</td>\n      <td>NaN</td>\n      <td>52</td>\n      <td>SIDI</td>\n      <td>...</td>\n      <td>0.0</td>\n      <td>0.0</td>\n      <td>0</td>\n      <td>0</td>\n      <td>0</td>\n      <td>0</td>\n      <td>0.0</td>\n      <td>0.0</td>\n      <td>0.00</td>\n      <td>0.0</td>\n    </tr>\n    <tr>\n      <th>38110</th>\n      <td>37548</td>\n      <td>2017</td>\n      <td>Volvo</td>\n      <td>XC90 AWD</td>\n      <td>Standard Sport Utility Vehicle 4WD</td>\n      <td>All-Wheel Drive</td>\n      <td>Automatic (S8)</td>\n      <td>NaN</td>\n      <td>53</td>\n      <td>SIDI</td>\n      <td>...</td>\n      <td>0.0</td>\n      <td>0.0</td>\n      <td>0</td>\n      <td>0</td>\n      <td>0</td>\n      <td>0</td>\n      <td>0.0</td>\n      <td>0.0</td>\n      <td>0.00</td>\n      <td>0.0</td>\n    </tr>\n    <tr>\n      <th>38111</th>\n      <td>37703</td>\n      <td>2017</td>\n      <td>Volvo</td>\n      <td>XC90 AWD PHEV</td>\n      <td>Standard Sport Utility Vehicle 4WD</td>\n      <td>All-Wheel Drive</td>\n      <td>Automatic (S8)</td>\n      <td>NaN</td>\n      <td>54</td>\n      <td>SIDI; PHEV</td>\n      <td>...</td>\n      <td>3.0</td>\n      <td>0.0</td>\n      <td>29</td>\n      <td>32</td>\n      <td>30</td>\n      <td>0</td>\n      <td>0.0</td>\n      <td>0.0</td>\n      <td>13.84</td>\n      <td>13.3</td>\n    </tr>\n    <tr>\n      <th>38112</th>\n      <td>37687</td>\n      <td>2017</td>\n      <td>Volvo</td>\n      <td>XC90 FWD</td>\n      <td>Standard Sport Utility Vehicle 2WD</td>\n      <td>Front-Wheel Drive</td>\n      <td>Automatic (S8)</td>\n      <td>NaN</td>\n      <td>50</td>\n      <td>SIDI</td>\n      <td>...</td>\n      <td>0.0</td>\n      <td>0.0</td>\n      <td>0</td>\n      <td>0</td>\n      <td>0</td>\n      <td>0</td>\n      <td>0.0</td>\n      <td>0.0</td>\n      <td>0.00</td>\n      <td>0.0</td>\n    </tr>\n  </tbody>\n</table>\n<p>36924 rows × 71 columns</p>\n</div>"
     },
     "execution_count": 129,
     "metadata": {},
     "output_type": "execute_result"
    }
   ],
   "source": [
    "clean_df"
   ],
   "metadata": {
    "collapsed": false,
    "ExecuteTime": {
     "end_time": "2024-05-18T13:59:24.997854Z",
     "start_time": "2024-05-18T13:59:24.843208Z"
    }
   },
   "id": "21e0ba1ff2322bfd",
   "execution_count": 129
  }
 ],
 "metadata": {
  "kernelspec": {
   "display_name": "Python 3",
   "language": "python",
   "name": "python3"
  },
  "language_info": {
   "codemirror_mode": {
    "name": "ipython",
    "version": 2
   },
   "file_extension": ".py",
   "mimetype": "text/x-python",
   "name": "python",
   "nbconvert_exporter": "python",
   "pygments_lexer": "ipython2",
   "version": "2.7.6"
  }
 },
 "nbformat": 4,
 "nbformat_minor": 5
}
