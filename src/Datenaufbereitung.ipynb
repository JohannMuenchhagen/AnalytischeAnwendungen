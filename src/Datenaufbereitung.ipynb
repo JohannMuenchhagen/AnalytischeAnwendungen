{
 "cells": [
  {
   "cell_type": "markdown",
   "source": [
    "Zu erst wird die benötigte Bibliothek Pandas und der Datensatz geladen"
   ],
   "metadata": {
    "collapsed": false
   },
   "id": "c8323d034263523f"
  },
  {
   "cell_type": "code",
   "execution_count": 4,
   "id": "initial_id",
   "metadata": {
    "collapsed": true,
    "ExecuteTime": {
     "end_time": "2024-05-19T22:39:21.049265Z",
     "start_time": "2024-05-19T22:39:20.518631Z"
    }
   },
   "outputs": [],
   "source": [
    "import pandas as pd"
   ]
  },
  {
   "cell_type": "code",
   "outputs": [
    {
     "name": "stderr",
     "output_type": "stream",
     "text": [
      "/var/folders/9g/6s6jvkk926149cqngqhhk7zh0000gn/T/ipykernel_8813/3551924139.py:1: DtypeWarning: Columns (7,44) have mixed types. Specify dtype option on import or set low_memory=False.\n",
      "  raw_data = pd.read_csv(\"../data/fuel.csv\")\n"
     ]
    }
   ],
   "source": [
    "raw_data = pd.read_csv(\"../data/fuel.csv\")"
   ],
   "metadata": {
    "collapsed": false,
    "ExecuteTime": {
     "end_time": "2024-05-19T22:39:22.918948Z",
     "start_time": "2024-05-19T22:39:21.068468Z"
    }
   },
   "id": "6aa1cf06ee43e0e3",
   "execution_count": 5
  },
  {
   "cell_type": "code",
   "outputs": [
    {
     "data": {
      "text/plain": "       vehicle_id  year        make               model  \\\n0           26587  1984  Alfa Romeo           GT V6 2.5   \n1           27705  1984  Alfa Romeo           GT V6 2.5   \n2           26561  1984  Alfa Romeo  Spider Veloce 2000   \n3           27681  1984  Alfa Romeo  Spider Veloce 2000   \n4           27550  1984  AM General   DJ Po Vehicle 2WD   \n...           ...   ...         ...                 ...   \n38108       37564  2017       Volvo            XC60 FWD   \n38109       37547  2017       Volvo            XC90 AWD   \n38110       37548  2017       Volvo            XC90 AWD   \n38111       37703  2017       Volvo       XC90 AWD PHEV   \n38112       37687  2017       Volvo            XC90 FWD   \n\n                                    class              drive  \\\n0                        Minicompact Cars                NaN   \n1                        Minicompact Cars                NaN   \n2                             Two Seaters                NaN   \n3                             Two Seaters                NaN   \n4             Special Purpose Vehicle 2WD      2-Wheel Drive   \n...                                   ...                ...   \n38108     Small Sport Utility Vehicle 2WD  Front-Wheel Drive   \n38109  Standard Sport Utility Vehicle 4WD    All-Wheel Drive   \n38110  Standard Sport Utility Vehicle 4WD    All-Wheel Drive   \n38111  Standard Sport Utility Vehicle 4WD    All-Wheel Drive   \n38112  Standard Sport Utility Vehicle 2WD  Front-Wheel Drive   \n\n            transmission transmission_type  engine_index engine_descriptor  \\\n0         Manual 5-Speed               NaN          9001             (FFS)   \n1         Manual 5-Speed               NaN          9005    (FFS) CA model   \n2         Manual 5-Speed               NaN          9002             (FFS)   \n3         Manual 5-Speed               NaN          9006    (FFS) CA model   \n4      Automatic 3-Speed               NaN          1830             (FFS)   \n...                  ...               ...           ...               ...   \n38108     Automatic (S8)               NaN            90              SIDI   \n38109     Automatic (S8)               NaN            52              SIDI   \n38110     Automatic (S8)               NaN            53              SIDI   \n38111     Automatic (S8)               NaN            54        SIDI; PHEV   \n38112     Automatic (S8)               NaN            50              SIDI   \n\n       ...  hours_to_charge_ac_240v  composite_city_mpg composite_highway_mpg  \\\n0      ...                      0.0                   0                     0   \n1      ...                      0.0                   0                     0   \n2      ...                      0.0                   0                     0   \n3      ...                      0.0                   0                     0   \n4      ...                      0.0                   0                     0   \n...    ...                      ...                 ...                   ...   \n38108  ...                      0.0                   0                     0   \n38109  ...                      0.0                   0                     0   \n38110  ...                      0.0                   0                     0   \n38111  ...                      0.0                  29                    32   \n38112  ...                      0.0                   0                     0   \n\n       composite_combined_mpg range_ft1 city_range_ft1  highway_range_ft1  \\\n0                           0         0            0.0                0.0   \n1                           0         0            0.0                0.0   \n2                           0         0            0.0                0.0   \n3                           0         0            0.0                0.0   \n4                           0         0            0.0                0.0   \n...                       ...       ...            ...                ...   \n38108                       0         0            0.0                0.0   \n38109                       0         0            0.0                0.0   \n38110                       0         0            0.0                0.0   \n38111                      30         0            0.0                0.0   \n38112                       0         0            0.0                0.0   \n\n       range_ft2  city_range_ft2  highway_range_ft2  \n0            NaN            0.00                0.0  \n1            NaN            0.00                0.0  \n2            NaN            0.00                0.0  \n3            NaN            0.00                0.0  \n4            NaN            0.00                0.0  \n...          ...             ...                ...  \n38108        NaN            0.00                0.0  \n38109        NaN            0.00                0.0  \n38110        NaN            0.00                0.0  \n38111        NaN           13.84               13.3  \n38112        NaN            0.00                0.0  \n\n[38113 rows x 81 columns]",
      "text/html": "<div>\n<style scoped>\n    .dataframe tbody tr th:only-of-type {\n        vertical-align: middle;\n    }\n\n    .dataframe tbody tr th {\n        vertical-align: top;\n    }\n\n    .dataframe thead th {\n        text-align: right;\n    }\n</style>\n<table border=\"1\" class=\"dataframe\">\n  <thead>\n    <tr style=\"text-align: right;\">\n      <th></th>\n      <th>vehicle_id</th>\n      <th>year</th>\n      <th>make</th>\n      <th>model</th>\n      <th>class</th>\n      <th>drive</th>\n      <th>transmission</th>\n      <th>transmission_type</th>\n      <th>engine_index</th>\n      <th>engine_descriptor</th>\n      <th>...</th>\n      <th>hours_to_charge_ac_240v</th>\n      <th>composite_city_mpg</th>\n      <th>composite_highway_mpg</th>\n      <th>composite_combined_mpg</th>\n      <th>range_ft1</th>\n      <th>city_range_ft1</th>\n      <th>highway_range_ft1</th>\n      <th>range_ft2</th>\n      <th>city_range_ft2</th>\n      <th>highway_range_ft2</th>\n    </tr>\n  </thead>\n  <tbody>\n    <tr>\n      <th>0</th>\n      <td>26587</td>\n      <td>1984</td>\n      <td>Alfa Romeo</td>\n      <td>GT V6 2.5</td>\n      <td>Minicompact Cars</td>\n      <td>NaN</td>\n      <td>Manual 5-Speed</td>\n      <td>NaN</td>\n      <td>9001</td>\n      <td>(FFS)</td>\n      <td>...</td>\n      <td>0.0</td>\n      <td>0</td>\n      <td>0</td>\n      <td>0</td>\n      <td>0</td>\n      <td>0.0</td>\n      <td>0.0</td>\n      <td>NaN</td>\n      <td>0.00</td>\n      <td>0.0</td>\n    </tr>\n    <tr>\n      <th>1</th>\n      <td>27705</td>\n      <td>1984</td>\n      <td>Alfa Romeo</td>\n      <td>GT V6 2.5</td>\n      <td>Minicompact Cars</td>\n      <td>NaN</td>\n      <td>Manual 5-Speed</td>\n      <td>NaN</td>\n      <td>9005</td>\n      <td>(FFS) CA model</td>\n      <td>...</td>\n      <td>0.0</td>\n      <td>0</td>\n      <td>0</td>\n      <td>0</td>\n      <td>0</td>\n      <td>0.0</td>\n      <td>0.0</td>\n      <td>NaN</td>\n      <td>0.00</td>\n      <td>0.0</td>\n    </tr>\n    <tr>\n      <th>2</th>\n      <td>26561</td>\n      <td>1984</td>\n      <td>Alfa Romeo</td>\n      <td>Spider Veloce 2000</td>\n      <td>Two Seaters</td>\n      <td>NaN</td>\n      <td>Manual 5-Speed</td>\n      <td>NaN</td>\n      <td>9002</td>\n      <td>(FFS)</td>\n      <td>...</td>\n      <td>0.0</td>\n      <td>0</td>\n      <td>0</td>\n      <td>0</td>\n      <td>0</td>\n      <td>0.0</td>\n      <td>0.0</td>\n      <td>NaN</td>\n      <td>0.00</td>\n      <td>0.0</td>\n    </tr>\n    <tr>\n      <th>3</th>\n      <td>27681</td>\n      <td>1984</td>\n      <td>Alfa Romeo</td>\n      <td>Spider Veloce 2000</td>\n      <td>Two Seaters</td>\n      <td>NaN</td>\n      <td>Manual 5-Speed</td>\n      <td>NaN</td>\n      <td>9006</td>\n      <td>(FFS) CA model</td>\n      <td>...</td>\n      <td>0.0</td>\n      <td>0</td>\n      <td>0</td>\n      <td>0</td>\n      <td>0</td>\n      <td>0.0</td>\n      <td>0.0</td>\n      <td>NaN</td>\n      <td>0.00</td>\n      <td>0.0</td>\n    </tr>\n    <tr>\n      <th>4</th>\n      <td>27550</td>\n      <td>1984</td>\n      <td>AM General</td>\n      <td>DJ Po Vehicle 2WD</td>\n      <td>Special Purpose Vehicle 2WD</td>\n      <td>2-Wheel Drive</td>\n      <td>Automatic 3-Speed</td>\n      <td>NaN</td>\n      <td>1830</td>\n      <td>(FFS)</td>\n      <td>...</td>\n      <td>0.0</td>\n      <td>0</td>\n      <td>0</td>\n      <td>0</td>\n      <td>0</td>\n      <td>0.0</td>\n      <td>0.0</td>\n      <td>NaN</td>\n      <td>0.00</td>\n      <td>0.0</td>\n    </tr>\n    <tr>\n      <th>...</th>\n      <td>...</td>\n      <td>...</td>\n      <td>...</td>\n      <td>...</td>\n      <td>...</td>\n      <td>...</td>\n      <td>...</td>\n      <td>...</td>\n      <td>...</td>\n      <td>...</td>\n      <td>...</td>\n      <td>...</td>\n      <td>...</td>\n      <td>...</td>\n      <td>...</td>\n      <td>...</td>\n      <td>...</td>\n      <td>...</td>\n      <td>...</td>\n      <td>...</td>\n      <td>...</td>\n    </tr>\n    <tr>\n      <th>38108</th>\n      <td>37564</td>\n      <td>2017</td>\n      <td>Volvo</td>\n      <td>XC60 FWD</td>\n      <td>Small Sport Utility Vehicle 2WD</td>\n      <td>Front-Wheel Drive</td>\n      <td>Automatic (S8)</td>\n      <td>NaN</td>\n      <td>90</td>\n      <td>SIDI</td>\n      <td>...</td>\n      <td>0.0</td>\n      <td>0</td>\n      <td>0</td>\n      <td>0</td>\n      <td>0</td>\n      <td>0.0</td>\n      <td>0.0</td>\n      <td>NaN</td>\n      <td>0.00</td>\n      <td>0.0</td>\n    </tr>\n    <tr>\n      <th>38109</th>\n      <td>37547</td>\n      <td>2017</td>\n      <td>Volvo</td>\n      <td>XC90 AWD</td>\n      <td>Standard Sport Utility Vehicle 4WD</td>\n      <td>All-Wheel Drive</td>\n      <td>Automatic (S8)</td>\n      <td>NaN</td>\n      <td>52</td>\n      <td>SIDI</td>\n      <td>...</td>\n      <td>0.0</td>\n      <td>0</td>\n      <td>0</td>\n      <td>0</td>\n      <td>0</td>\n      <td>0.0</td>\n      <td>0.0</td>\n      <td>NaN</td>\n      <td>0.00</td>\n      <td>0.0</td>\n    </tr>\n    <tr>\n      <th>38110</th>\n      <td>37548</td>\n      <td>2017</td>\n      <td>Volvo</td>\n      <td>XC90 AWD</td>\n      <td>Standard Sport Utility Vehicle 4WD</td>\n      <td>All-Wheel Drive</td>\n      <td>Automatic (S8)</td>\n      <td>NaN</td>\n      <td>53</td>\n      <td>SIDI</td>\n      <td>...</td>\n      <td>0.0</td>\n      <td>0</td>\n      <td>0</td>\n      <td>0</td>\n      <td>0</td>\n      <td>0.0</td>\n      <td>0.0</td>\n      <td>NaN</td>\n      <td>0.00</td>\n      <td>0.0</td>\n    </tr>\n    <tr>\n      <th>38111</th>\n      <td>37703</td>\n      <td>2017</td>\n      <td>Volvo</td>\n      <td>XC90 AWD PHEV</td>\n      <td>Standard Sport Utility Vehicle 4WD</td>\n      <td>All-Wheel Drive</td>\n      <td>Automatic (S8)</td>\n      <td>NaN</td>\n      <td>54</td>\n      <td>SIDI; PHEV</td>\n      <td>...</td>\n      <td>0.0</td>\n      <td>29</td>\n      <td>32</td>\n      <td>30</td>\n      <td>0</td>\n      <td>0.0</td>\n      <td>0.0</td>\n      <td>NaN</td>\n      <td>13.84</td>\n      <td>13.3</td>\n    </tr>\n    <tr>\n      <th>38112</th>\n      <td>37687</td>\n      <td>2017</td>\n      <td>Volvo</td>\n      <td>XC90 FWD</td>\n      <td>Standard Sport Utility Vehicle 2WD</td>\n      <td>Front-Wheel Drive</td>\n      <td>Automatic (S8)</td>\n      <td>NaN</td>\n      <td>50</td>\n      <td>SIDI</td>\n      <td>...</td>\n      <td>0.0</td>\n      <td>0</td>\n      <td>0</td>\n      <td>0</td>\n      <td>0</td>\n      <td>0.0</td>\n      <td>0.0</td>\n      <td>NaN</td>\n      <td>0.00</td>\n      <td>0.0</td>\n    </tr>\n  </tbody>\n</table>\n<p>38113 rows × 81 columns</p>\n</div>"
     },
     "execution_count": 6,
     "metadata": {},
     "output_type": "execute_result"
    }
   ],
   "source": [
    "raw_data # Darstellung der Daten"
   ],
   "metadata": {
    "collapsed": false,
    "ExecuteTime": {
     "end_time": "2024-05-19T22:39:23.017973Z",
     "start_time": "2024-05-19T22:39:22.792097Z"
    }
   },
   "id": "2b5df724deecaeea",
   "execution_count": 6
  },
  {
   "cell_type": "code",
   "outputs": [
    {
     "name": "stdout",
     "output_type": "stream",
     "text": [
      "<class 'pandas.core.frame.DataFrame'>\n",
      "RangeIndex: 38113 entries, 0 to 38112\n",
      "Data columns (total 81 columns):\n",
      " #   Column                             Non-Null Count  Dtype  \n",
      "---  ------                             --------------  -----  \n",
      " 0   vehicle_id                         38113 non-null  int64  \n",
      " 1   year                               38113 non-null  int64  \n",
      " 2   make                               38113 non-null  object \n",
      " 3   model                              38113 non-null  object \n",
      " 4   class                              38113 non-null  object \n",
      " 5   drive                              36924 non-null  object \n",
      " 6   transmission                       38102 non-null  object \n",
      " 7   transmission_type                  15045 non-null  object \n",
      " 8   engine_index                       38113 non-null  int64  \n",
      " 9   engine_descriptor                  22693 non-null  object \n",
      " 10  engine_cylinders                   37977 non-null  float64\n",
      " 11  engine_displacement                37979 non-null  float64\n",
      " 12  turbocharger                       5239 non-null   object \n",
      " 13  supercharger                       0 non-null      float64\n",
      " 14  fuel_type                          38113 non-null  object \n",
      " 15  fuel_type_1                        38113 non-null  object \n",
      " 16  fuel_type_2                        0 non-null      float64\n",
      " 17  city_mpg_ft1                       38113 non-null  int64  \n",
      " 18  unrounded_city_mpg_ft1             38113 non-null  float64\n",
      " 19  city_mpg_ft2                       38113 non-null  int64  \n",
      " 20  unrounded_city_mpg_ft2             38113 non-null  float64\n",
      " 21  city_gasoline_consumption_cd       38113 non-null  float64\n",
      " 22  city_electricity_consumption       38113 non-null  float64\n",
      " 23  city_utility_factor                38113 non-null  float64\n",
      " 24  highway_mpg_ft1                    38113 non-null  int64  \n",
      " 25  unrounded_highway_mpg_ft1          38113 non-null  float64\n",
      " 26  highway_mpg_ft2                    38113 non-null  int64  \n",
      " 27  unrounded_highway_mpg_ft2          38113 non-null  float64\n",
      " 28  highway_gasoline_consumption_cd    38113 non-null  float64\n",
      " 29  highway_electricity_consumption    38113 non-null  float64\n",
      " 30  highway_utility_factor             38113 non-null  float64\n",
      " 31  unadjusted_city_mpg_ft1            38113 non-null  float64\n",
      " 32  unadjusted_highway_mpg_ft1         38113 non-null  float64\n",
      " 33  unadjusted_city_mpg_ft2            38113 non-null  float64\n",
      " 34  unadjusted_highway_mpg_ft2         38113 non-null  float64\n",
      " 35  combined_mpg_ft1                   38113 non-null  int64  \n",
      " 36  unrounded_combined_mpg_ft1         38113 non-null  float64\n",
      " 37  combined_mpg_ft2                   38113 non-null  int64  \n",
      " 38  unrounded_combined_mpg_ft2         38113 non-null  float64\n",
      " 39  combined_electricity_consumption   38113 non-null  float64\n",
      " 40  combined_gasoline_consumption_cd   38113 non-null  float64\n",
      " 41  combined_utility_factor            38113 non-null  float64\n",
      " 42  annual_fuel_cost_ft1               38113 non-null  int64  \n",
      " 43  annual_fuel_cost_ft2               38113 non-null  int64  \n",
      " 44  gas_guzzler_tax                    964 non-null    object \n",
      " 45  save_or_spend_5_year               38113 non-null  int64  \n",
      " 46  annual_consumption_in_barrels_ft1  38113 non-null  float64\n",
      " 47  annual_consumption_in_barrels_ft2  38113 non-null  float64\n",
      " 48  tailpipe_co2_ft1                   38113 non-null  int64  \n",
      " 49  tailpipe_co2_in_grams_mile_ft1     38113 non-null  float64\n",
      " 50  tailpipe_co2_ft2                   38113 non-null  int64  \n",
      " 51  tailpipe_co2_in_grams_mile_ft2     38113 non-null  float64\n",
      " 52  fuel_economy_score                 38113 non-null  int64  \n",
      " 53  ghg_score                          38113 non-null  int64  \n",
      " 54  ghg_score_alt_fuel                 38113 non-null  int64  \n",
      " 55  my_mpg_data                        38113 non-null  object \n",
      " 56  x2d_passenger_volume               38113 non-null  int64  \n",
      " 57  x2d_luggage_volume                 38113 non-null  int64  \n",
      " 58  x4d_passenger_volume               38113 non-null  int64  \n",
      " 59  x4d_luggage_volume                 38113 non-null  int64  \n",
      " 60  hatchback_passenger_volume         38113 non-null  int64  \n",
      " 61  hatchback_luggage_volume           38113 non-null  int64  \n",
      " 62  start_stop_technology              0 non-null      float64\n",
      " 63  alternative_fuel_technology        3047 non-null   object \n",
      " 64  electric_motor                     0 non-null      float64\n",
      " 65  manufacturer_code                  0 non-null      float64\n",
      " 66  gasoline_electricity_blended_cd    38113 non-null  bool   \n",
      " 67  vehicle_charger                    0 non-null      float64\n",
      " 68  alternate_charger                  0 non-null      float64\n",
      " 69  hours_to_charge_120v               38113 non-null  int64  \n",
      " 70  hours_to_charge_240v               38113 non-null  float64\n",
      " 71  hours_to_charge_ac_240v            38113 non-null  float64\n",
      " 72  composite_city_mpg                 38113 non-null  int64  \n",
      " 73  composite_highway_mpg              38113 non-null  int64  \n",
      " 74  composite_combined_mpg             38113 non-null  int64  \n",
      " 75  range_ft1                          38113 non-null  int64  \n",
      " 76  city_range_ft1                     38113 non-null  float64\n",
      " 77  highway_range_ft1                  38113 non-null  float64\n",
      " 78  range_ft2                          0 non-null      float64\n",
      " 79  city_range_ft2                     38113 non-null  float64\n",
      " 80  highway_range_ft2                  38113 non-null  float64\n",
      "dtypes: bool(1), float64(39), int64(28), object(13)\n",
      "memory usage: 23.3+ MB\n"
     ]
    }
   ],
   "source": [
    "raw_data.info() # überblick über die Datatypes verschaffen"
   ],
   "metadata": {
    "collapsed": false,
    "ExecuteTime": {
     "end_time": "2024-05-19T22:39:23.224434Z",
     "start_time": "2024-05-19T22:39:22.929567Z"
    }
   },
   "id": "6c14b35edd1b200",
   "execution_count": 7
  },
  {
   "cell_type": "markdown",
   "source": [
    "Als nächstes werden alle Spalten entfernt die vollständig leer, also NaN, sind."
   ],
   "metadata": {
    "collapsed": false
   },
   "id": "321ada78d6e0f196"
  },
  {
   "cell_type": "code",
   "outputs": [
    {
     "data": {
      "text/plain": "       vehicle_id  year        make               model  \\\n0           26587  1984  Alfa Romeo           GT V6 2.5   \n1           27705  1984  Alfa Romeo           GT V6 2.5   \n2           26561  1984  Alfa Romeo  Spider Veloce 2000   \n3           27681  1984  Alfa Romeo  Spider Veloce 2000   \n4           27550  1984  AM General   DJ Po Vehicle 2WD   \n...           ...   ...         ...                 ...   \n38108       37564  2017       Volvo            XC60 FWD   \n38109       37547  2017       Volvo            XC90 AWD   \n38110       37548  2017       Volvo            XC90 AWD   \n38111       37703  2017       Volvo       XC90 AWD PHEV   \n38112       37687  2017       Volvo            XC90 FWD   \n\n                                    class              drive  \\\n0                        Minicompact Cars                NaN   \n1                        Minicompact Cars                NaN   \n2                             Two Seaters                NaN   \n3                             Two Seaters                NaN   \n4             Special Purpose Vehicle 2WD      2-Wheel Drive   \n...                                   ...                ...   \n38108     Small Sport Utility Vehicle 2WD  Front-Wheel Drive   \n38109  Standard Sport Utility Vehicle 4WD    All-Wheel Drive   \n38110  Standard Sport Utility Vehicle 4WD    All-Wheel Drive   \n38111  Standard Sport Utility Vehicle 4WD    All-Wheel Drive   \n38112  Standard Sport Utility Vehicle 2WD  Front-Wheel Drive   \n\n            transmission transmission_type  engine_index engine_descriptor  \\\n0         Manual 5-Speed               NaN          9001             (FFS)   \n1         Manual 5-Speed               NaN          9005    (FFS) CA model   \n2         Manual 5-Speed               NaN          9002             (FFS)   \n3         Manual 5-Speed               NaN          9006    (FFS) CA model   \n4      Automatic 3-Speed               NaN          1830             (FFS)   \n...                  ...               ...           ...               ...   \n38108     Automatic (S8)               NaN            90              SIDI   \n38109     Automatic (S8)               NaN            52              SIDI   \n38110     Automatic (S8)               NaN            53              SIDI   \n38111     Automatic (S8)               NaN            54        SIDI; PHEV   \n38112     Automatic (S8)               NaN            50              SIDI   \n\n       ...  hours_to_charge_240v  hours_to_charge_ac_240v composite_city_mpg  \\\n0      ...                   0.0                      0.0                  0   \n1      ...                   0.0                      0.0                  0   \n2      ...                   0.0                      0.0                  0   \n3      ...                   0.0                      0.0                  0   \n4      ...                   0.0                      0.0                  0   \n...    ...                   ...                      ...                ...   \n38108  ...                   0.0                      0.0                  0   \n38109  ...                   0.0                      0.0                  0   \n38110  ...                   0.0                      0.0                  0   \n38111  ...                   3.0                      0.0                 29   \n38112  ...                   0.0                      0.0                  0   \n\n      composite_highway_mpg composite_combined_mpg  range_ft1  city_range_ft1  \\\n0                         0                      0          0             0.0   \n1                         0                      0          0             0.0   \n2                         0                      0          0             0.0   \n3                         0                      0          0             0.0   \n4                         0                      0          0             0.0   \n...                     ...                    ...        ...             ...   \n38108                     0                      0          0             0.0   \n38109                     0                      0          0             0.0   \n38110                     0                      0          0             0.0   \n38111                    32                     30          0             0.0   \n38112                     0                      0          0             0.0   \n\n       highway_range_ft1  city_range_ft2  highway_range_ft2  \n0                    0.0            0.00                0.0  \n1                    0.0            0.00                0.0  \n2                    0.0            0.00                0.0  \n3                    0.0            0.00                0.0  \n4                    0.0            0.00                0.0  \n...                  ...             ...                ...  \n38108                0.0            0.00                0.0  \n38109                0.0            0.00                0.0  \n38110                0.0            0.00                0.0  \n38111                0.0           13.84               13.3  \n38112                0.0            0.00                0.0  \n\n[38113 rows x 71 columns]",
      "text/html": "<div>\n<style scoped>\n    .dataframe tbody tr th:only-of-type {\n        vertical-align: middle;\n    }\n\n    .dataframe tbody tr th {\n        vertical-align: top;\n    }\n\n    .dataframe thead th {\n        text-align: right;\n    }\n</style>\n<table border=\"1\" class=\"dataframe\">\n  <thead>\n    <tr style=\"text-align: right;\">\n      <th></th>\n      <th>vehicle_id</th>\n      <th>year</th>\n      <th>make</th>\n      <th>model</th>\n      <th>class</th>\n      <th>drive</th>\n      <th>transmission</th>\n      <th>transmission_type</th>\n      <th>engine_index</th>\n      <th>engine_descriptor</th>\n      <th>...</th>\n      <th>hours_to_charge_240v</th>\n      <th>hours_to_charge_ac_240v</th>\n      <th>composite_city_mpg</th>\n      <th>composite_highway_mpg</th>\n      <th>composite_combined_mpg</th>\n      <th>range_ft1</th>\n      <th>city_range_ft1</th>\n      <th>highway_range_ft1</th>\n      <th>city_range_ft2</th>\n      <th>highway_range_ft2</th>\n    </tr>\n  </thead>\n  <tbody>\n    <tr>\n      <th>0</th>\n      <td>26587</td>\n      <td>1984</td>\n      <td>Alfa Romeo</td>\n      <td>GT V6 2.5</td>\n      <td>Minicompact Cars</td>\n      <td>NaN</td>\n      <td>Manual 5-Speed</td>\n      <td>NaN</td>\n      <td>9001</td>\n      <td>(FFS)</td>\n      <td>...</td>\n      <td>0.0</td>\n      <td>0.0</td>\n      <td>0</td>\n      <td>0</td>\n      <td>0</td>\n      <td>0</td>\n      <td>0.0</td>\n      <td>0.0</td>\n      <td>0.00</td>\n      <td>0.0</td>\n    </tr>\n    <tr>\n      <th>1</th>\n      <td>27705</td>\n      <td>1984</td>\n      <td>Alfa Romeo</td>\n      <td>GT V6 2.5</td>\n      <td>Minicompact Cars</td>\n      <td>NaN</td>\n      <td>Manual 5-Speed</td>\n      <td>NaN</td>\n      <td>9005</td>\n      <td>(FFS) CA model</td>\n      <td>...</td>\n      <td>0.0</td>\n      <td>0.0</td>\n      <td>0</td>\n      <td>0</td>\n      <td>0</td>\n      <td>0</td>\n      <td>0.0</td>\n      <td>0.0</td>\n      <td>0.00</td>\n      <td>0.0</td>\n    </tr>\n    <tr>\n      <th>2</th>\n      <td>26561</td>\n      <td>1984</td>\n      <td>Alfa Romeo</td>\n      <td>Spider Veloce 2000</td>\n      <td>Two Seaters</td>\n      <td>NaN</td>\n      <td>Manual 5-Speed</td>\n      <td>NaN</td>\n      <td>9002</td>\n      <td>(FFS)</td>\n      <td>...</td>\n      <td>0.0</td>\n      <td>0.0</td>\n      <td>0</td>\n      <td>0</td>\n      <td>0</td>\n      <td>0</td>\n      <td>0.0</td>\n      <td>0.0</td>\n      <td>0.00</td>\n      <td>0.0</td>\n    </tr>\n    <tr>\n      <th>3</th>\n      <td>27681</td>\n      <td>1984</td>\n      <td>Alfa Romeo</td>\n      <td>Spider Veloce 2000</td>\n      <td>Two Seaters</td>\n      <td>NaN</td>\n      <td>Manual 5-Speed</td>\n      <td>NaN</td>\n      <td>9006</td>\n      <td>(FFS) CA model</td>\n      <td>...</td>\n      <td>0.0</td>\n      <td>0.0</td>\n      <td>0</td>\n      <td>0</td>\n      <td>0</td>\n      <td>0</td>\n      <td>0.0</td>\n      <td>0.0</td>\n      <td>0.00</td>\n      <td>0.0</td>\n    </tr>\n    <tr>\n      <th>4</th>\n      <td>27550</td>\n      <td>1984</td>\n      <td>AM General</td>\n      <td>DJ Po Vehicle 2WD</td>\n      <td>Special Purpose Vehicle 2WD</td>\n      <td>2-Wheel Drive</td>\n      <td>Automatic 3-Speed</td>\n      <td>NaN</td>\n      <td>1830</td>\n      <td>(FFS)</td>\n      <td>...</td>\n      <td>0.0</td>\n      <td>0.0</td>\n      <td>0</td>\n      <td>0</td>\n      <td>0</td>\n      <td>0</td>\n      <td>0.0</td>\n      <td>0.0</td>\n      <td>0.00</td>\n      <td>0.0</td>\n    </tr>\n    <tr>\n      <th>...</th>\n      <td>...</td>\n      <td>...</td>\n      <td>...</td>\n      <td>...</td>\n      <td>...</td>\n      <td>...</td>\n      <td>...</td>\n      <td>...</td>\n      <td>...</td>\n      <td>...</td>\n      <td>...</td>\n      <td>...</td>\n      <td>...</td>\n      <td>...</td>\n      <td>...</td>\n      <td>...</td>\n      <td>...</td>\n      <td>...</td>\n      <td>...</td>\n      <td>...</td>\n      <td>...</td>\n    </tr>\n    <tr>\n      <th>38108</th>\n      <td>37564</td>\n      <td>2017</td>\n      <td>Volvo</td>\n      <td>XC60 FWD</td>\n      <td>Small Sport Utility Vehicle 2WD</td>\n      <td>Front-Wheel Drive</td>\n      <td>Automatic (S8)</td>\n      <td>NaN</td>\n      <td>90</td>\n      <td>SIDI</td>\n      <td>...</td>\n      <td>0.0</td>\n      <td>0.0</td>\n      <td>0</td>\n      <td>0</td>\n      <td>0</td>\n      <td>0</td>\n      <td>0.0</td>\n      <td>0.0</td>\n      <td>0.00</td>\n      <td>0.0</td>\n    </tr>\n    <tr>\n      <th>38109</th>\n      <td>37547</td>\n      <td>2017</td>\n      <td>Volvo</td>\n      <td>XC90 AWD</td>\n      <td>Standard Sport Utility Vehicle 4WD</td>\n      <td>All-Wheel Drive</td>\n      <td>Automatic (S8)</td>\n      <td>NaN</td>\n      <td>52</td>\n      <td>SIDI</td>\n      <td>...</td>\n      <td>0.0</td>\n      <td>0.0</td>\n      <td>0</td>\n      <td>0</td>\n      <td>0</td>\n      <td>0</td>\n      <td>0.0</td>\n      <td>0.0</td>\n      <td>0.00</td>\n      <td>0.0</td>\n    </tr>\n    <tr>\n      <th>38110</th>\n      <td>37548</td>\n      <td>2017</td>\n      <td>Volvo</td>\n      <td>XC90 AWD</td>\n      <td>Standard Sport Utility Vehicle 4WD</td>\n      <td>All-Wheel Drive</td>\n      <td>Automatic (S8)</td>\n      <td>NaN</td>\n      <td>53</td>\n      <td>SIDI</td>\n      <td>...</td>\n      <td>0.0</td>\n      <td>0.0</td>\n      <td>0</td>\n      <td>0</td>\n      <td>0</td>\n      <td>0</td>\n      <td>0.0</td>\n      <td>0.0</td>\n      <td>0.00</td>\n      <td>0.0</td>\n    </tr>\n    <tr>\n      <th>38111</th>\n      <td>37703</td>\n      <td>2017</td>\n      <td>Volvo</td>\n      <td>XC90 AWD PHEV</td>\n      <td>Standard Sport Utility Vehicle 4WD</td>\n      <td>All-Wheel Drive</td>\n      <td>Automatic (S8)</td>\n      <td>NaN</td>\n      <td>54</td>\n      <td>SIDI; PHEV</td>\n      <td>...</td>\n      <td>3.0</td>\n      <td>0.0</td>\n      <td>29</td>\n      <td>32</td>\n      <td>30</td>\n      <td>0</td>\n      <td>0.0</td>\n      <td>0.0</td>\n      <td>13.84</td>\n      <td>13.3</td>\n    </tr>\n    <tr>\n      <th>38112</th>\n      <td>37687</td>\n      <td>2017</td>\n      <td>Volvo</td>\n      <td>XC90 FWD</td>\n      <td>Standard Sport Utility Vehicle 2WD</td>\n      <td>Front-Wheel Drive</td>\n      <td>Automatic (S8)</td>\n      <td>NaN</td>\n      <td>50</td>\n      <td>SIDI</td>\n      <td>...</td>\n      <td>0.0</td>\n      <td>0.0</td>\n      <td>0</td>\n      <td>0</td>\n      <td>0</td>\n      <td>0</td>\n      <td>0.0</td>\n      <td>0.0</td>\n      <td>0.00</td>\n      <td>0.0</td>\n    </tr>\n  </tbody>\n</table>\n<p>38113 rows × 71 columns</p>\n</div>"
     },
     "execution_count": 8,
     "metadata": {},
     "output_type": "execute_result"
    }
   ],
   "source": [
    "raw_data.drop(columns=[\"range_ft2\",\"alternate_charger\",\"vehicle_charger\",\"manufacturer_code\",\"electric_motor\",\"alternative_fuel_technology\",\"start_stop_technology\",\"gas_guzzler_tax\",\"fuel_type_2\",\"supercharger\"],inplace=True)\n",
    "raw_data"
   ],
   "metadata": {
    "collapsed": false,
    "ExecuteTime": {
     "end_time": "2024-05-19T22:39:23.435484Z",
     "start_time": "2024-05-19T22:39:23.155233Z"
    }
   },
   "id": "54c4145b3d378d1a",
   "execution_count": 8
  },
  {
   "cell_type": "markdown",
   "source": [
    "In der Datenbetrachtung ist aufgefallen, dass die Spalte \"turbocharger\" nur True oder NaN enthält. Daher werden die NaN Werte zu False umcodiert. "
   ],
   "metadata": {
    "collapsed": false
   },
   "id": "e7256f0a9250cc93"
  },
  {
   "cell_type": "code",
   "outputs": [],
   "source": [
    "clean_df = raw_data # erstelle eine Kopie des Datasets"
   ],
   "metadata": {
    "collapsed": false,
    "ExecuteTime": {
     "end_time": "2024-05-19T23:07:18.080960Z",
     "start_time": "2024-05-19T23:07:18.062570Z"
    }
   },
   "id": "885b9de30d431b3b",
   "execution_count": 45
  },
  {
   "cell_type": "code",
   "outputs": [],
   "source": [
    "clean_df[\"turbocharger\"].fillna(False,inplace=True) # ersetzte NaN mit False"
   ],
   "metadata": {
    "collapsed": false,
    "ExecuteTime": {
     "end_time": "2024-05-19T22:39:23.908897Z",
     "start_time": "2024-05-19T22:39:23.681644Z"
    }
   },
   "id": "863621443486fa38",
   "execution_count": 11
  },
  {
   "cell_type": "code",
   "outputs": [],
   "source": [
    "clean_df = clean_df[clean_df.drive.isna() == False] # Entferne NaN in der Spalte \"Drive\""
   ],
   "metadata": {
    "collapsed": false,
    "ExecuteTime": {
     "end_time": "2024-05-19T22:39:24.158269Z",
     "start_time": "2024-05-19T22:39:23.889721Z"
    }
   },
   "id": "d0e9a74a01a5c571",
   "execution_count": 12
  },
  {
   "cell_type": "code",
   "outputs": [
    {
     "data": {
      "text/plain": "       vehicle_id  year                         make              model  \\\n4           27550  1984                   AM General  DJ Po Vehicle 2WD   \n5           28426  1984                   AM General  DJ Po Vehicle 2WD   \n6           27549  1984                   AM General   FJ8c Post Office   \n7           28425  1984                   AM General   FJ8c Post Office   \n8           27593  1984  American Motors Corporation          Eagle 4WD   \n...           ...   ...                          ...                ...   \n38108       37564  2017                        Volvo           XC60 FWD   \n38109       37547  2017                        Volvo           XC90 AWD   \n38110       37548  2017                        Volvo           XC90 AWD   \n38111       37703  2017                        Volvo      XC90 AWD PHEV   \n38112       37687  2017                        Volvo           XC90 FWD   \n\n                                    class                       drive  \\\n4             Special Purpose Vehicle 2WD               2-Wheel Drive   \n5             Special Purpose Vehicle 2WD               2-Wheel Drive   \n6             Special Purpose Vehicle 2WD               2-Wheel Drive   \n7             Special Purpose Vehicle 2WD               2-Wheel Drive   \n8             Special Purpose Vehicle 4WD  4-Wheel or All-Wheel Drive   \n...                                   ...                         ...   \n38108     Small Sport Utility Vehicle 2WD           Front-Wheel Drive   \n38109  Standard Sport Utility Vehicle 4WD             All-Wheel Drive   \n38110  Standard Sport Utility Vehicle 4WD             All-Wheel Drive   \n38111  Standard Sport Utility Vehicle 4WD             All-Wheel Drive   \n38112  Standard Sport Utility Vehicle 2WD           Front-Wheel Drive   \n\n            transmission transmission_type  engine_index engine_descriptor  \\\n4      Automatic 3-Speed               NaN          1830             (FFS)   \n5      Automatic 3-Speed               NaN          1880    (FFS) CA model   \n6      Automatic 3-Speed               NaN          1831             (FFS)   \n7      Automatic 3-Speed               NaN          1881    (FFS) CA model   \n8      Automatic 3-Speed               NaN          1524             (FFS)   \n...                  ...               ...           ...               ...   \n38108     Automatic (S8)               NaN            90              SIDI   \n38109     Automatic (S8)               NaN            52              SIDI   \n38110     Automatic (S8)               NaN            53              SIDI   \n38111     Automatic (S8)               NaN            54        SIDI; PHEV   \n38112     Automatic (S8)               NaN            50              SIDI   \n\n       ...  hours_to_charge_240v  hours_to_charge_ac_240v  composite_city_mpg  \\\n4      ...                   0.0                      0.0                   0   \n5      ...                   0.0                      0.0                   0   \n6      ...                   0.0                      0.0                   0   \n7      ...                   0.0                      0.0                   0   \n8      ...                   0.0                      0.0                   0   \n...    ...                   ...                      ...                 ...   \n38108  ...                   0.0                      0.0                   0   \n38109  ...                   0.0                      0.0                   0   \n38110  ...                   0.0                      0.0                   0   \n38111  ...                   3.0                      0.0                  29   \n38112  ...                   0.0                      0.0                   0   \n\n      composite_highway_mpg composite_combined_mpg  range_ft1  city_range_ft1  \\\n4                         0                      0          0             0.0   \n5                         0                      0          0             0.0   \n6                         0                      0          0             0.0   \n7                         0                      0          0             0.0   \n8                         0                      0          0             0.0   \n...                     ...                    ...        ...             ...   \n38108                     0                      0          0             0.0   \n38109                     0                      0          0             0.0   \n38110                     0                      0          0             0.0   \n38111                    32                     30          0             0.0   \n38112                     0                      0          0             0.0   \n\n       highway_range_ft1  city_range_ft2  highway_range_ft2  \n4                    0.0            0.00                0.0  \n5                    0.0            0.00                0.0  \n6                    0.0            0.00                0.0  \n7                    0.0            0.00                0.0  \n8                    0.0            0.00                0.0  \n...                  ...             ...                ...  \n38108                0.0            0.00                0.0  \n38109                0.0            0.00                0.0  \n38110                0.0            0.00                0.0  \n38111                0.0           13.84               13.3  \n38112                0.0            0.00                0.0  \n\n[36924 rows x 71 columns]",
      "text/html": "<div>\n<style scoped>\n    .dataframe tbody tr th:only-of-type {\n        vertical-align: middle;\n    }\n\n    .dataframe tbody tr th {\n        vertical-align: top;\n    }\n\n    .dataframe thead th {\n        text-align: right;\n    }\n</style>\n<table border=\"1\" class=\"dataframe\">\n  <thead>\n    <tr style=\"text-align: right;\">\n      <th></th>\n      <th>vehicle_id</th>\n      <th>year</th>\n      <th>make</th>\n      <th>model</th>\n      <th>class</th>\n      <th>drive</th>\n      <th>transmission</th>\n      <th>transmission_type</th>\n      <th>engine_index</th>\n      <th>engine_descriptor</th>\n      <th>...</th>\n      <th>hours_to_charge_240v</th>\n      <th>hours_to_charge_ac_240v</th>\n      <th>composite_city_mpg</th>\n      <th>composite_highway_mpg</th>\n      <th>composite_combined_mpg</th>\n      <th>range_ft1</th>\n      <th>city_range_ft1</th>\n      <th>highway_range_ft1</th>\n      <th>city_range_ft2</th>\n      <th>highway_range_ft2</th>\n    </tr>\n  </thead>\n  <tbody>\n    <tr>\n      <th>4</th>\n      <td>27550</td>\n      <td>1984</td>\n      <td>AM General</td>\n      <td>DJ Po Vehicle 2WD</td>\n      <td>Special Purpose Vehicle 2WD</td>\n      <td>2-Wheel Drive</td>\n      <td>Automatic 3-Speed</td>\n      <td>NaN</td>\n      <td>1830</td>\n      <td>(FFS)</td>\n      <td>...</td>\n      <td>0.0</td>\n      <td>0.0</td>\n      <td>0</td>\n      <td>0</td>\n      <td>0</td>\n      <td>0</td>\n      <td>0.0</td>\n      <td>0.0</td>\n      <td>0.00</td>\n      <td>0.0</td>\n    </tr>\n    <tr>\n      <th>5</th>\n      <td>28426</td>\n      <td>1984</td>\n      <td>AM General</td>\n      <td>DJ Po Vehicle 2WD</td>\n      <td>Special Purpose Vehicle 2WD</td>\n      <td>2-Wheel Drive</td>\n      <td>Automatic 3-Speed</td>\n      <td>NaN</td>\n      <td>1880</td>\n      <td>(FFS) CA model</td>\n      <td>...</td>\n      <td>0.0</td>\n      <td>0.0</td>\n      <td>0</td>\n      <td>0</td>\n      <td>0</td>\n      <td>0</td>\n      <td>0.0</td>\n      <td>0.0</td>\n      <td>0.00</td>\n      <td>0.0</td>\n    </tr>\n    <tr>\n      <th>6</th>\n      <td>27549</td>\n      <td>1984</td>\n      <td>AM General</td>\n      <td>FJ8c Post Office</td>\n      <td>Special Purpose Vehicle 2WD</td>\n      <td>2-Wheel Drive</td>\n      <td>Automatic 3-Speed</td>\n      <td>NaN</td>\n      <td>1831</td>\n      <td>(FFS)</td>\n      <td>...</td>\n      <td>0.0</td>\n      <td>0.0</td>\n      <td>0</td>\n      <td>0</td>\n      <td>0</td>\n      <td>0</td>\n      <td>0.0</td>\n      <td>0.0</td>\n      <td>0.00</td>\n      <td>0.0</td>\n    </tr>\n    <tr>\n      <th>7</th>\n      <td>28425</td>\n      <td>1984</td>\n      <td>AM General</td>\n      <td>FJ8c Post Office</td>\n      <td>Special Purpose Vehicle 2WD</td>\n      <td>2-Wheel Drive</td>\n      <td>Automatic 3-Speed</td>\n      <td>NaN</td>\n      <td>1881</td>\n      <td>(FFS) CA model</td>\n      <td>...</td>\n      <td>0.0</td>\n      <td>0.0</td>\n      <td>0</td>\n      <td>0</td>\n      <td>0</td>\n      <td>0</td>\n      <td>0.0</td>\n      <td>0.0</td>\n      <td>0.00</td>\n      <td>0.0</td>\n    </tr>\n    <tr>\n      <th>8</th>\n      <td>27593</td>\n      <td>1984</td>\n      <td>American Motors Corporation</td>\n      <td>Eagle 4WD</td>\n      <td>Special Purpose Vehicle 4WD</td>\n      <td>4-Wheel or All-Wheel Drive</td>\n      <td>Automatic 3-Speed</td>\n      <td>NaN</td>\n      <td>1524</td>\n      <td>(FFS)</td>\n      <td>...</td>\n      <td>0.0</td>\n      <td>0.0</td>\n      <td>0</td>\n      <td>0</td>\n      <td>0</td>\n      <td>0</td>\n      <td>0.0</td>\n      <td>0.0</td>\n      <td>0.00</td>\n      <td>0.0</td>\n    </tr>\n    <tr>\n      <th>...</th>\n      <td>...</td>\n      <td>...</td>\n      <td>...</td>\n      <td>...</td>\n      <td>...</td>\n      <td>...</td>\n      <td>...</td>\n      <td>...</td>\n      <td>...</td>\n      <td>...</td>\n      <td>...</td>\n      <td>...</td>\n      <td>...</td>\n      <td>...</td>\n      <td>...</td>\n      <td>...</td>\n      <td>...</td>\n      <td>...</td>\n      <td>...</td>\n      <td>...</td>\n      <td>...</td>\n    </tr>\n    <tr>\n      <th>38108</th>\n      <td>37564</td>\n      <td>2017</td>\n      <td>Volvo</td>\n      <td>XC60 FWD</td>\n      <td>Small Sport Utility Vehicle 2WD</td>\n      <td>Front-Wheel Drive</td>\n      <td>Automatic (S8)</td>\n      <td>NaN</td>\n      <td>90</td>\n      <td>SIDI</td>\n      <td>...</td>\n      <td>0.0</td>\n      <td>0.0</td>\n      <td>0</td>\n      <td>0</td>\n      <td>0</td>\n      <td>0</td>\n      <td>0.0</td>\n      <td>0.0</td>\n      <td>0.00</td>\n      <td>0.0</td>\n    </tr>\n    <tr>\n      <th>38109</th>\n      <td>37547</td>\n      <td>2017</td>\n      <td>Volvo</td>\n      <td>XC90 AWD</td>\n      <td>Standard Sport Utility Vehicle 4WD</td>\n      <td>All-Wheel Drive</td>\n      <td>Automatic (S8)</td>\n      <td>NaN</td>\n      <td>52</td>\n      <td>SIDI</td>\n      <td>...</td>\n      <td>0.0</td>\n      <td>0.0</td>\n      <td>0</td>\n      <td>0</td>\n      <td>0</td>\n      <td>0</td>\n      <td>0.0</td>\n      <td>0.0</td>\n      <td>0.00</td>\n      <td>0.0</td>\n    </tr>\n    <tr>\n      <th>38110</th>\n      <td>37548</td>\n      <td>2017</td>\n      <td>Volvo</td>\n      <td>XC90 AWD</td>\n      <td>Standard Sport Utility Vehicle 4WD</td>\n      <td>All-Wheel Drive</td>\n      <td>Automatic (S8)</td>\n      <td>NaN</td>\n      <td>53</td>\n      <td>SIDI</td>\n      <td>...</td>\n      <td>0.0</td>\n      <td>0.0</td>\n      <td>0</td>\n      <td>0</td>\n      <td>0</td>\n      <td>0</td>\n      <td>0.0</td>\n      <td>0.0</td>\n      <td>0.00</td>\n      <td>0.0</td>\n    </tr>\n    <tr>\n      <th>38111</th>\n      <td>37703</td>\n      <td>2017</td>\n      <td>Volvo</td>\n      <td>XC90 AWD PHEV</td>\n      <td>Standard Sport Utility Vehicle 4WD</td>\n      <td>All-Wheel Drive</td>\n      <td>Automatic (S8)</td>\n      <td>NaN</td>\n      <td>54</td>\n      <td>SIDI; PHEV</td>\n      <td>...</td>\n      <td>3.0</td>\n      <td>0.0</td>\n      <td>29</td>\n      <td>32</td>\n      <td>30</td>\n      <td>0</td>\n      <td>0.0</td>\n      <td>0.0</td>\n      <td>13.84</td>\n      <td>13.3</td>\n    </tr>\n    <tr>\n      <th>38112</th>\n      <td>37687</td>\n      <td>2017</td>\n      <td>Volvo</td>\n      <td>XC90 FWD</td>\n      <td>Standard Sport Utility Vehicle 2WD</td>\n      <td>Front-Wheel Drive</td>\n      <td>Automatic (S8)</td>\n      <td>NaN</td>\n      <td>50</td>\n      <td>SIDI</td>\n      <td>...</td>\n      <td>0.0</td>\n      <td>0.0</td>\n      <td>0</td>\n      <td>0</td>\n      <td>0</td>\n      <td>0</td>\n      <td>0.0</td>\n      <td>0.0</td>\n      <td>0.00</td>\n      <td>0.0</td>\n    </tr>\n  </tbody>\n</table>\n<p>36924 rows × 71 columns</p>\n</div>"
     },
     "execution_count": 13,
     "metadata": {},
     "output_type": "execute_result"
    }
   ],
   "source": [
    "clean_df #Darstellung"
   ],
   "metadata": {
    "collapsed": false,
    "ExecuteTime": {
     "end_time": "2024-05-19T22:39:24.270355Z",
     "start_time": "2024-05-19T22:39:24.192801Z"
    }
   },
   "id": "21e0ba1ff2322bfd",
   "execution_count": 13
  },
  {
   "cell_type": "code",
   "outputs": [],
   "source": [
    "clean_df_with_type = clean_df.copy() # erstelle eine Kopie"
   ],
   "metadata": {
    "collapsed": false,
    "ExecuteTime": {
     "end_time": "2024-05-19T22:39:24.373350Z",
     "start_time": "2024-05-19T22:39:24.238345Z"
    }
   },
   "id": "3722a2d9a343d6c1",
   "execution_count": 14
  },
  {
   "cell_type": "code",
   "outputs": [],
   "source": [
    "clean_df_with_type = clean_df_with_type[clean_df_with_type.transmission_type.isna() == False] # entferne leere Werte in Transmission"
   ],
   "metadata": {
    "collapsed": false,
    "ExecuteTime": {
     "end_time": "2024-05-19T22:39:24.466450Z",
     "start_time": "2024-05-19T22:39:24.301119Z"
    }
   },
   "id": "7b7e12f121821499",
   "execution_count": 15
  },
  {
   "cell_type": "code",
   "outputs": [],
   "source": [
    "clean_df_with_type = clean_df_with_type.fillna(\"Unknown\") # Ersetze NaN in Engine_descriptor mit Unkown"
   ],
   "metadata": {
    "collapsed": false,
    "ExecuteTime": {
     "end_time": "2024-05-19T22:39:24.598156Z",
     "start_time": "2024-05-19T22:39:24.412254Z"
    }
   },
   "id": "164994f1f895d51e",
   "execution_count": 16
  },
  {
   "cell_type": "code",
   "outputs": [
    {
     "data": {
      "text/plain": "       vehicle_id  year       make           model  \\\n199         27315  1984  Chevrolet  C10 Pickup 2WD   \n202         29618  1984  Chevrolet  C10 Pickup 2WD   \n203         29619  1984  Chevrolet  C10 Pickup 2WD   \n209         27317  1984  Chevrolet  C20 Pickup 2WD   \n210         27319  1984  Chevrolet  C20 Pickup 2WD   \n...           ...   ...        ...             ...   \n28626       25726  2009      Volvo        XC70 AWD   \n28627       25727  2009      Volvo        XC90 AWD   \n28628       25728  2009      Volvo        XC90 AWD   \n28629       25658  2009      Volvo        XC90 FWD   \n28901       29894  2010   Chrysler      PT Cruiser   \n\n                             class                       drive  \\\n199     Standard Pickup Trucks 2WD               2-Wheel Drive   \n202     Standard Pickup Trucks 2WD               2-Wheel Drive   \n203     Standard Pickup Trucks 2WD               2-Wheel Drive   \n209     Standard Pickup Trucks 2WD               2-Wheel Drive   \n210     Standard Pickup Trucks 2WD               2-Wheel Drive   \n...                            ...                         ...   \n28626  Sport Utility Vehicle - 4WD  4-Wheel or All-Wheel Drive   \n28627  Sport Utility Vehicle - 4WD  4-Wheel or All-Wheel Drive   \n28628  Sport Utility Vehicle - 4WD  4-Wheel or All-Wheel Drive   \n28629  Sport Utility Vehicle - 2WD           Front-Wheel Drive   \n28901  Sport Utility Vehicle - 2WD           Front-Wheel Drive   \n\n            transmission transmission_type  engine_index engine_descriptor  \\\n199       Manual 4-Speed           Creeper          4881          (DIESEL)   \n202       Manual 4-Speed           Creeper          4852           Unknown   \n203       Manual 4-Speed           Creeper          4863         (GM-CHEV)   \n209       Manual 4-Speed           Creeper          4852           Unknown   \n210       Manual 4-Speed           Creeper          4863         (GM-CHEV)   \n...                  ...               ...           ...               ...   \n28626     Automatic (S6)       2MODE CLKUP             0           Unknown   \n28627     Automatic (S6)       2MODE CLKUP             0           Unknown   \n28628     Automatic (S6)       2MODE CLKUP             0           Unknown   \n28629     Automatic (S6)       2MODE CLKUP             0           Unknown   \n28901  Automatic 4-Speed             CLKUP           560           Unknown   \n\n       ...  hours_to_charge_240v  hours_to_charge_ac_240v  composite_city_mpg  \\\n199    ...                   0.0                      0.0                   0   \n202    ...                   0.0                      0.0                   0   \n203    ...                   0.0                      0.0                   0   \n209    ...                   0.0                      0.0                   0   \n210    ...                   0.0                      0.0                   0   \n...    ...                   ...                      ...                 ...   \n28626  ...                   0.0                      0.0                   0   \n28627  ...                   0.0                      0.0                   0   \n28628  ...                   0.0                      0.0                   0   \n28629  ...                   0.0                      0.0                   0   \n28901  ...                   0.0                      0.0                   0   \n\n      composite_highway_mpg composite_combined_mpg  range_ft1  city_range_ft1  \\\n199                       0                      0          0             0.0   \n202                       0                      0          0             0.0   \n203                       0                      0          0             0.0   \n209                       0                      0          0             0.0   \n210                       0                      0          0             0.0   \n...                     ...                    ...        ...             ...   \n28626                     0                      0          0             0.0   \n28627                     0                      0          0             0.0   \n28628                     0                      0          0             0.0   \n28629                     0                      0          0             0.0   \n28901                     0                      0          0             0.0   \n\n       highway_range_ft1  city_range_ft2  highway_range_ft2  \n199                  0.0             0.0                0.0  \n202                  0.0             0.0                0.0  \n203                  0.0             0.0                0.0  \n209                  0.0             0.0                0.0  \n210                  0.0             0.0                0.0  \n...                  ...             ...                ...  \n28626                0.0             0.0                0.0  \n28627                0.0             0.0                0.0  \n28628                0.0             0.0                0.0  \n28629                0.0             0.0                0.0  \n28901                0.0             0.0                0.0  \n\n[15045 rows x 71 columns]",
      "text/html": "<div>\n<style scoped>\n    .dataframe tbody tr th:only-of-type {\n        vertical-align: middle;\n    }\n\n    .dataframe tbody tr th {\n        vertical-align: top;\n    }\n\n    .dataframe thead th {\n        text-align: right;\n    }\n</style>\n<table border=\"1\" class=\"dataframe\">\n  <thead>\n    <tr style=\"text-align: right;\">\n      <th></th>\n      <th>vehicle_id</th>\n      <th>year</th>\n      <th>make</th>\n      <th>model</th>\n      <th>class</th>\n      <th>drive</th>\n      <th>transmission</th>\n      <th>transmission_type</th>\n      <th>engine_index</th>\n      <th>engine_descriptor</th>\n      <th>...</th>\n      <th>hours_to_charge_240v</th>\n      <th>hours_to_charge_ac_240v</th>\n      <th>composite_city_mpg</th>\n      <th>composite_highway_mpg</th>\n      <th>composite_combined_mpg</th>\n      <th>range_ft1</th>\n      <th>city_range_ft1</th>\n      <th>highway_range_ft1</th>\n      <th>city_range_ft2</th>\n      <th>highway_range_ft2</th>\n    </tr>\n  </thead>\n  <tbody>\n    <tr>\n      <th>199</th>\n      <td>27315</td>\n      <td>1984</td>\n      <td>Chevrolet</td>\n      <td>C10 Pickup 2WD</td>\n      <td>Standard Pickup Trucks 2WD</td>\n      <td>2-Wheel Drive</td>\n      <td>Manual 4-Speed</td>\n      <td>Creeper</td>\n      <td>4881</td>\n      <td>(DIESEL)</td>\n      <td>...</td>\n      <td>0.0</td>\n      <td>0.0</td>\n      <td>0</td>\n      <td>0</td>\n      <td>0</td>\n      <td>0</td>\n      <td>0.0</td>\n      <td>0.0</td>\n      <td>0.0</td>\n      <td>0.0</td>\n    </tr>\n    <tr>\n      <th>202</th>\n      <td>29618</td>\n      <td>1984</td>\n      <td>Chevrolet</td>\n      <td>C10 Pickup 2WD</td>\n      <td>Standard Pickup Trucks 2WD</td>\n      <td>2-Wheel Drive</td>\n      <td>Manual 4-Speed</td>\n      <td>Creeper</td>\n      <td>4852</td>\n      <td>Unknown</td>\n      <td>...</td>\n      <td>0.0</td>\n      <td>0.0</td>\n      <td>0</td>\n      <td>0</td>\n      <td>0</td>\n      <td>0</td>\n      <td>0.0</td>\n      <td>0.0</td>\n      <td>0.0</td>\n      <td>0.0</td>\n    </tr>\n    <tr>\n      <th>203</th>\n      <td>29619</td>\n      <td>1984</td>\n      <td>Chevrolet</td>\n      <td>C10 Pickup 2WD</td>\n      <td>Standard Pickup Trucks 2WD</td>\n      <td>2-Wheel Drive</td>\n      <td>Manual 4-Speed</td>\n      <td>Creeper</td>\n      <td>4863</td>\n      <td>(GM-CHEV)</td>\n      <td>...</td>\n      <td>0.0</td>\n      <td>0.0</td>\n      <td>0</td>\n      <td>0</td>\n      <td>0</td>\n      <td>0</td>\n      <td>0.0</td>\n      <td>0.0</td>\n      <td>0.0</td>\n      <td>0.0</td>\n    </tr>\n    <tr>\n      <th>209</th>\n      <td>27317</td>\n      <td>1984</td>\n      <td>Chevrolet</td>\n      <td>C20 Pickup 2WD</td>\n      <td>Standard Pickup Trucks 2WD</td>\n      <td>2-Wheel Drive</td>\n      <td>Manual 4-Speed</td>\n      <td>Creeper</td>\n      <td>4852</td>\n      <td>Unknown</td>\n      <td>...</td>\n      <td>0.0</td>\n      <td>0.0</td>\n      <td>0</td>\n      <td>0</td>\n      <td>0</td>\n      <td>0</td>\n      <td>0.0</td>\n      <td>0.0</td>\n      <td>0.0</td>\n      <td>0.0</td>\n    </tr>\n    <tr>\n      <th>210</th>\n      <td>27319</td>\n      <td>1984</td>\n      <td>Chevrolet</td>\n      <td>C20 Pickup 2WD</td>\n      <td>Standard Pickup Trucks 2WD</td>\n      <td>2-Wheel Drive</td>\n      <td>Manual 4-Speed</td>\n      <td>Creeper</td>\n      <td>4863</td>\n      <td>(GM-CHEV)</td>\n      <td>...</td>\n      <td>0.0</td>\n      <td>0.0</td>\n      <td>0</td>\n      <td>0</td>\n      <td>0</td>\n      <td>0</td>\n      <td>0.0</td>\n      <td>0.0</td>\n      <td>0.0</td>\n      <td>0.0</td>\n    </tr>\n    <tr>\n      <th>...</th>\n      <td>...</td>\n      <td>...</td>\n      <td>...</td>\n      <td>...</td>\n      <td>...</td>\n      <td>...</td>\n      <td>...</td>\n      <td>...</td>\n      <td>...</td>\n      <td>...</td>\n      <td>...</td>\n      <td>...</td>\n      <td>...</td>\n      <td>...</td>\n      <td>...</td>\n      <td>...</td>\n      <td>...</td>\n      <td>...</td>\n      <td>...</td>\n      <td>...</td>\n      <td>...</td>\n    </tr>\n    <tr>\n      <th>28626</th>\n      <td>25726</td>\n      <td>2009</td>\n      <td>Volvo</td>\n      <td>XC70 AWD</td>\n      <td>Sport Utility Vehicle - 4WD</td>\n      <td>4-Wheel or All-Wheel Drive</td>\n      <td>Automatic (S6)</td>\n      <td>2MODE CLKUP</td>\n      <td>0</td>\n      <td>Unknown</td>\n      <td>...</td>\n      <td>0.0</td>\n      <td>0.0</td>\n      <td>0</td>\n      <td>0</td>\n      <td>0</td>\n      <td>0</td>\n      <td>0.0</td>\n      <td>0.0</td>\n      <td>0.0</td>\n      <td>0.0</td>\n    </tr>\n    <tr>\n      <th>28627</th>\n      <td>25727</td>\n      <td>2009</td>\n      <td>Volvo</td>\n      <td>XC90 AWD</td>\n      <td>Sport Utility Vehicle - 4WD</td>\n      <td>4-Wheel or All-Wheel Drive</td>\n      <td>Automatic (S6)</td>\n      <td>2MODE CLKUP</td>\n      <td>0</td>\n      <td>Unknown</td>\n      <td>...</td>\n      <td>0.0</td>\n      <td>0.0</td>\n      <td>0</td>\n      <td>0</td>\n      <td>0</td>\n      <td>0</td>\n      <td>0.0</td>\n      <td>0.0</td>\n      <td>0.0</td>\n      <td>0.0</td>\n    </tr>\n    <tr>\n      <th>28628</th>\n      <td>25728</td>\n      <td>2009</td>\n      <td>Volvo</td>\n      <td>XC90 AWD</td>\n      <td>Sport Utility Vehicle - 4WD</td>\n      <td>4-Wheel or All-Wheel Drive</td>\n      <td>Automatic (S6)</td>\n      <td>2MODE CLKUP</td>\n      <td>0</td>\n      <td>Unknown</td>\n      <td>...</td>\n      <td>0.0</td>\n      <td>0.0</td>\n      <td>0</td>\n      <td>0</td>\n      <td>0</td>\n      <td>0</td>\n      <td>0.0</td>\n      <td>0.0</td>\n      <td>0.0</td>\n      <td>0.0</td>\n    </tr>\n    <tr>\n      <th>28629</th>\n      <td>25658</td>\n      <td>2009</td>\n      <td>Volvo</td>\n      <td>XC90 FWD</td>\n      <td>Sport Utility Vehicle - 2WD</td>\n      <td>Front-Wheel Drive</td>\n      <td>Automatic (S6)</td>\n      <td>2MODE CLKUP</td>\n      <td>0</td>\n      <td>Unknown</td>\n      <td>...</td>\n      <td>0.0</td>\n      <td>0.0</td>\n      <td>0</td>\n      <td>0</td>\n      <td>0</td>\n      <td>0</td>\n      <td>0.0</td>\n      <td>0.0</td>\n      <td>0.0</td>\n      <td>0.0</td>\n    </tr>\n    <tr>\n      <th>28901</th>\n      <td>29894</td>\n      <td>2010</td>\n      <td>Chrysler</td>\n      <td>PT Cruiser</td>\n      <td>Sport Utility Vehicle - 2WD</td>\n      <td>Front-Wheel Drive</td>\n      <td>Automatic 4-Speed</td>\n      <td>CLKUP</td>\n      <td>560</td>\n      <td>Unknown</td>\n      <td>...</td>\n      <td>0.0</td>\n      <td>0.0</td>\n      <td>0</td>\n      <td>0</td>\n      <td>0</td>\n      <td>0</td>\n      <td>0.0</td>\n      <td>0.0</td>\n      <td>0.0</td>\n      <td>0.0</td>\n    </tr>\n  </tbody>\n</table>\n<p>15045 rows × 71 columns</p>\n</div>"
     },
     "execution_count": 17,
     "metadata": {},
     "output_type": "execute_result"
    }
   ],
   "source": [
    "clean_df_with_type"
   ],
   "metadata": {
    "collapsed": false,
    "ExecuteTime": {
     "end_time": "2024-05-19T22:39:24.705787Z",
     "start_time": "2024-05-19T22:39:24.560611Z"
    }
   },
   "id": "c028babb70f1863c",
   "execution_count": 17
  },
  {
   "cell_type": "markdown",
   "source": [
    "Entferne Spalten ohne Aussagekraft. Diese Spalten enthalten lediglich den Wert 0"
   ],
   "metadata": {
    "collapsed": false
   },
   "id": "b36462e312c38f40"
  },
  {
   "cell_type": "code",
   "outputs": [],
   "source": [
    "clean_df_with_type = clean_df_with_type.drop(columns=[\"unrounded_city_mpg_ft1\",\n",
    "                                                      \"unrounded_city_mpg_ft2\",\n",
    "                                                      \"city_gasoline_consumption_cd\",\n",
    "                                                      \"city_electricity_consumption\",\n",
    "                                                      \"city_utility_factor\",\n",
    "                                                      \"highway_mpg_ft1\",\n",
    "                                                      \"unrounded_highway_mpg_ft1\",\n",
    "                                                      \"unrounded_highway_mpg_ft2\",\n",
    "                                                      \"highway_gasoline_consumption_cd\",\n",
    "                                                      \"highway_electricity_consumption\",\n",
    "                                                      \"highway_utility_factor\",\n",
    "                                                      \"unrounded_combined_mpg_ft1\",\n",
    "                                                      \"unrounded_combined_mpg_ft2\",\n",
    "                                                      \"combined_electricity_consumption\",\n",
    "                                                      \"combined_gasoline_consumption_cd\",\n",
    "                                                      \"combined_utility_factor\",\n",
    "                                                      \"hours_to_charge_120v\",\n",
    "                                                      \"hours_to_charge_240v\",\n",
    "                                                      \"hours_to_charge_ac_240v\",\n",
    "                                                      \"composite_city_mpg\",\n",
    "                                                      \"composite_highway_mpg\",\n",
    "                                                      \"composite_combined_mpg\",\n",
    "                                                      \"range_ft1\",\n",
    "                                                      \"city_range_ft1\",\n",
    "                                                      \"highway_range_ft1\",\n",
    "                                                      \"city_range_ft2\",\n",
    "                                                      \"highway_range_ft2\"\n",
    "                                                      ])"
   ],
   "metadata": {
    "collapsed": false,
    "ExecuteTime": {
     "end_time": "2024-05-19T22:47:50.840985Z",
     "start_time": "2024-05-19T22:47:50.806802Z"
    }
   },
   "id": "573ba8647e626dd2",
   "execution_count": 18
  },
  {
   "cell_type": "code",
   "outputs": [
    {
     "name": "stdout",
     "output_type": "stream",
     "text": [
      "<class 'pandas.core.frame.DataFrame'>\n",
      "Index: 15045 entries, 199 to 28901\n",
      "Data columns (total 44 columns):\n",
      " #   Column                             Non-Null Count  Dtype  \n",
      "---  ------                             --------------  -----  \n",
      " 0   vehicle_id                         15045 non-null  int64  \n",
      " 1   year                               15045 non-null  int64  \n",
      " 2   make                               15045 non-null  object \n",
      " 3   model                              15045 non-null  object \n",
      " 4   class                              15045 non-null  object \n",
      " 5   drive                              15045 non-null  object \n",
      " 6   transmission                       15045 non-null  object \n",
      " 7   transmission_type                  15045 non-null  object \n",
      " 8   engine_index                       15045 non-null  int64  \n",
      " 9   engine_descriptor                  15045 non-null  object \n",
      " 10  engine_cylinders                   15045 non-null  float64\n",
      " 11  engine_displacement                15045 non-null  float64\n",
      " 12  turbocharger                       15045 non-null  bool   \n",
      " 13  fuel_type                          15045 non-null  object \n",
      " 14  fuel_type_1                        15045 non-null  object \n",
      " 15  city_mpg_ft1                       15045 non-null  int64  \n",
      " 16  city_mpg_ft2                       15045 non-null  int64  \n",
      " 17  highway_mpg_ft2                    15045 non-null  int64  \n",
      " 18  unadjusted_city_mpg_ft1            15045 non-null  float64\n",
      " 19  unadjusted_highway_mpg_ft1         15045 non-null  float64\n",
      " 20  unadjusted_city_mpg_ft2            15045 non-null  float64\n",
      " 21  unadjusted_highway_mpg_ft2         15045 non-null  float64\n",
      " 22  combined_mpg_ft1                   15045 non-null  int64  \n",
      " 23  combined_mpg_ft2                   15045 non-null  int64  \n",
      " 24  annual_fuel_cost_ft1               15045 non-null  int64  \n",
      " 25  annual_fuel_cost_ft2               15045 non-null  int64  \n",
      " 26  save_or_spend_5_year               15045 non-null  int64  \n",
      " 27  annual_consumption_in_barrels_ft1  15045 non-null  float64\n",
      " 28  annual_consumption_in_barrels_ft2  15045 non-null  float64\n",
      " 29  tailpipe_co2_ft1                   15045 non-null  int64  \n",
      " 30  tailpipe_co2_in_grams_mile_ft1     15045 non-null  float64\n",
      " 31  tailpipe_co2_ft2                   15045 non-null  int64  \n",
      " 32  tailpipe_co2_in_grams_mile_ft2     15045 non-null  float64\n",
      " 33  fuel_economy_score                 15045 non-null  int64  \n",
      " 34  ghg_score                          15045 non-null  int64  \n",
      " 35  ghg_score_alt_fuel                 15045 non-null  int64  \n",
      " 36  my_mpg_data                        15045 non-null  object \n",
      " 37  x2d_passenger_volume               15045 non-null  int64  \n",
      " 38  x2d_luggage_volume                 15045 non-null  int64  \n",
      " 39  x4d_passenger_volume               15045 non-null  int64  \n",
      " 40  x4d_luggage_volume                 15045 non-null  int64  \n",
      " 41  hatchback_passenger_volume         15045 non-null  int64  \n",
      " 42  hatchback_luggage_volume           15045 non-null  int64  \n",
      " 43  gasoline_electricity_blended_cd    15045 non-null  bool   \n",
      "dtypes: bool(2), float64(10), int64(22), object(10)\n",
      "memory usage: 5.0+ MB\n"
     ]
    }
   ],
   "source": [
    "clean_df_with_type.info()"
   ],
   "metadata": {
    "collapsed": false,
    "ExecuteTime": {
     "end_time": "2024-05-19T22:48:50.158453Z",
     "start_time": "2024-05-19T22:48:50.070954Z"
    }
   },
   "id": "403960a060a247ed",
   "execution_count": 20
  },
  {
   "cell_type": "markdown",
   "source": [
    "Prüfe ob Daten des Types Object enthalten sind. Falls ja wird dies korrigiert"
   ],
   "metadata": {
    "collapsed": false
   },
   "id": "e24ce02d31f91afc"
  },
  {
   "cell_type": "code",
   "outputs": [
    {
     "data": {
      "text/plain": "            make           model                        class  \\\n199    Chevrolet  C10 Pickup 2WD   Standard Pickup Trucks 2WD   \n202    Chevrolet  C10 Pickup 2WD   Standard Pickup Trucks 2WD   \n203    Chevrolet  C10 Pickup 2WD   Standard Pickup Trucks 2WD   \n209    Chevrolet  C20 Pickup 2WD   Standard Pickup Trucks 2WD   \n210    Chevrolet  C20 Pickup 2WD   Standard Pickup Trucks 2WD   \n...          ...             ...                          ...   \n28626      Volvo        XC70 AWD  Sport Utility Vehicle - 4WD   \n28627      Volvo        XC90 AWD  Sport Utility Vehicle - 4WD   \n28628      Volvo        XC90 AWD  Sport Utility Vehicle - 4WD   \n28629      Volvo        XC90 FWD  Sport Utility Vehicle - 2WD   \n28901   Chrysler      PT Cruiser  Sport Utility Vehicle - 2WD   \n\n                            drive       transmission transmission_type  \\\n199                 2-Wheel Drive     Manual 4-Speed           Creeper   \n202                 2-Wheel Drive     Manual 4-Speed           Creeper   \n203                 2-Wheel Drive     Manual 4-Speed           Creeper   \n209                 2-Wheel Drive     Manual 4-Speed           Creeper   \n210                 2-Wheel Drive     Manual 4-Speed           Creeper   \n...                           ...                ...               ...   \n28626  4-Wheel or All-Wheel Drive     Automatic (S6)       2MODE CLKUP   \n28627  4-Wheel or All-Wheel Drive     Automatic (S6)       2MODE CLKUP   \n28628  4-Wheel or All-Wheel Drive     Automatic (S6)       2MODE CLKUP   \n28629           Front-Wheel Drive     Automatic (S6)       2MODE CLKUP   \n28901           Front-Wheel Drive  Automatic 4-Speed             CLKUP   \n\n      engine_descriptor fuel_type       fuel_type_1 my_mpg_data  \n199            (DIESEL)    Diesel            Diesel           N  \n202             Unknown   Regular  Regular Gasoline           N  \n203           (GM-CHEV)   Regular  Regular Gasoline           N  \n209             Unknown   Regular  Regular Gasoline           N  \n210           (GM-CHEV)   Regular  Regular Gasoline           N  \n...                 ...       ...               ...         ...  \n28626           Unknown   Regular  Regular Gasoline           N  \n28627           Unknown   Regular  Regular Gasoline           Y  \n28628           Unknown   Regular  Regular Gasoline           N  \n28629           Unknown   Regular  Regular Gasoline           N  \n28901           Unknown   Regular  Regular Gasoline           N  \n\n[15045 rows x 10 columns]",
      "text/html": "<div>\n<style scoped>\n    .dataframe tbody tr th:only-of-type {\n        vertical-align: middle;\n    }\n\n    .dataframe tbody tr th {\n        vertical-align: top;\n    }\n\n    .dataframe thead th {\n        text-align: right;\n    }\n</style>\n<table border=\"1\" class=\"dataframe\">\n  <thead>\n    <tr style=\"text-align: right;\">\n      <th></th>\n      <th>make</th>\n      <th>model</th>\n      <th>class</th>\n      <th>drive</th>\n      <th>transmission</th>\n      <th>transmission_type</th>\n      <th>engine_descriptor</th>\n      <th>fuel_type</th>\n      <th>fuel_type_1</th>\n      <th>my_mpg_data</th>\n    </tr>\n  </thead>\n  <tbody>\n    <tr>\n      <th>199</th>\n      <td>Chevrolet</td>\n      <td>C10 Pickup 2WD</td>\n      <td>Standard Pickup Trucks 2WD</td>\n      <td>2-Wheel Drive</td>\n      <td>Manual 4-Speed</td>\n      <td>Creeper</td>\n      <td>(DIESEL)</td>\n      <td>Diesel</td>\n      <td>Diesel</td>\n      <td>N</td>\n    </tr>\n    <tr>\n      <th>202</th>\n      <td>Chevrolet</td>\n      <td>C10 Pickup 2WD</td>\n      <td>Standard Pickup Trucks 2WD</td>\n      <td>2-Wheel Drive</td>\n      <td>Manual 4-Speed</td>\n      <td>Creeper</td>\n      <td>Unknown</td>\n      <td>Regular</td>\n      <td>Regular Gasoline</td>\n      <td>N</td>\n    </tr>\n    <tr>\n      <th>203</th>\n      <td>Chevrolet</td>\n      <td>C10 Pickup 2WD</td>\n      <td>Standard Pickup Trucks 2WD</td>\n      <td>2-Wheel Drive</td>\n      <td>Manual 4-Speed</td>\n      <td>Creeper</td>\n      <td>(GM-CHEV)</td>\n      <td>Regular</td>\n      <td>Regular Gasoline</td>\n      <td>N</td>\n    </tr>\n    <tr>\n      <th>209</th>\n      <td>Chevrolet</td>\n      <td>C20 Pickup 2WD</td>\n      <td>Standard Pickup Trucks 2WD</td>\n      <td>2-Wheel Drive</td>\n      <td>Manual 4-Speed</td>\n      <td>Creeper</td>\n      <td>Unknown</td>\n      <td>Regular</td>\n      <td>Regular Gasoline</td>\n      <td>N</td>\n    </tr>\n    <tr>\n      <th>210</th>\n      <td>Chevrolet</td>\n      <td>C20 Pickup 2WD</td>\n      <td>Standard Pickup Trucks 2WD</td>\n      <td>2-Wheel Drive</td>\n      <td>Manual 4-Speed</td>\n      <td>Creeper</td>\n      <td>(GM-CHEV)</td>\n      <td>Regular</td>\n      <td>Regular Gasoline</td>\n      <td>N</td>\n    </tr>\n    <tr>\n      <th>...</th>\n      <td>...</td>\n      <td>...</td>\n      <td>...</td>\n      <td>...</td>\n      <td>...</td>\n      <td>...</td>\n      <td>...</td>\n      <td>...</td>\n      <td>...</td>\n      <td>...</td>\n    </tr>\n    <tr>\n      <th>28626</th>\n      <td>Volvo</td>\n      <td>XC70 AWD</td>\n      <td>Sport Utility Vehicle - 4WD</td>\n      <td>4-Wheel or All-Wheel Drive</td>\n      <td>Automatic (S6)</td>\n      <td>2MODE CLKUP</td>\n      <td>Unknown</td>\n      <td>Regular</td>\n      <td>Regular Gasoline</td>\n      <td>N</td>\n    </tr>\n    <tr>\n      <th>28627</th>\n      <td>Volvo</td>\n      <td>XC90 AWD</td>\n      <td>Sport Utility Vehicle - 4WD</td>\n      <td>4-Wheel or All-Wheel Drive</td>\n      <td>Automatic (S6)</td>\n      <td>2MODE CLKUP</td>\n      <td>Unknown</td>\n      <td>Regular</td>\n      <td>Regular Gasoline</td>\n      <td>Y</td>\n    </tr>\n    <tr>\n      <th>28628</th>\n      <td>Volvo</td>\n      <td>XC90 AWD</td>\n      <td>Sport Utility Vehicle - 4WD</td>\n      <td>4-Wheel or All-Wheel Drive</td>\n      <td>Automatic (S6)</td>\n      <td>2MODE CLKUP</td>\n      <td>Unknown</td>\n      <td>Regular</td>\n      <td>Regular Gasoline</td>\n      <td>N</td>\n    </tr>\n    <tr>\n      <th>28629</th>\n      <td>Volvo</td>\n      <td>XC90 FWD</td>\n      <td>Sport Utility Vehicle - 2WD</td>\n      <td>Front-Wheel Drive</td>\n      <td>Automatic (S6)</td>\n      <td>2MODE CLKUP</td>\n      <td>Unknown</td>\n      <td>Regular</td>\n      <td>Regular Gasoline</td>\n      <td>N</td>\n    </tr>\n    <tr>\n      <th>28901</th>\n      <td>Chrysler</td>\n      <td>PT Cruiser</td>\n      <td>Sport Utility Vehicle - 2WD</td>\n      <td>Front-Wheel Drive</td>\n      <td>Automatic 4-Speed</td>\n      <td>CLKUP</td>\n      <td>Unknown</td>\n      <td>Regular</td>\n      <td>Regular Gasoline</td>\n      <td>N</td>\n    </tr>\n  </tbody>\n</table>\n<p>15045 rows × 10 columns</p>\n</div>"
     },
     "execution_count": 22,
     "metadata": {},
     "output_type": "execute_result"
    }
   ],
   "source": [
    "clean_df_with_type.select_dtypes(object) # Zeige alle Spalten des Types Object"
   ],
   "metadata": {
    "collapsed": false,
    "ExecuteTime": {
     "end_time": "2024-05-19T22:51:11.681209Z",
     "start_time": "2024-05-19T22:51:11.576677Z"
    }
   },
   "id": "2a824fbc97dce282",
   "execution_count": 22
  },
  {
   "cell_type": "code",
   "outputs": [],
   "source": [
    "# Mit aussnahme der Spalte my_mpg_data sind alle Spalten Kategorisch.\n",
    "# my_mpg_data ist eine boolische Spalte\n",
    "for col in clean_df_with_type.select_dtypes(object):\n",
    "    if col == \"my_mpg_data\":\n",
    "        clean_df_with_type[col] = clean_df_with_type[col].astype(bool)\n",
    "    else:\n",
    "        clean_df_with_type[col] = clean_df_with_type[col].astype(\"category\")"
   ],
   "metadata": {
    "collapsed": false,
    "ExecuteTime": {
     "end_time": "2024-05-19T23:11:57.471576Z",
     "start_time": "2024-05-19T23:11:57.446056Z"
    }
   },
   "id": "e4d8ef2c8d515123",
   "execution_count": 46
  },
  {
   "cell_type": "markdown",
   "source": [
    "Speichere die Daten im Ordner output"
   ],
   "metadata": {
    "collapsed": false
   },
   "id": "aebcdb265ed073c2"
  },
  {
   "cell_type": "code",
   "outputs": [],
   "source": [
    "clean_df_with_type.to_csv(\"../output/fuel_cleaned.csv\")"
   ],
   "metadata": {
    "collapsed": false,
    "ExecuteTime": {
     "end_time": "2024-05-19T23:12:35.978871Z",
     "start_time": "2024-05-19T23:12:35.715051Z"
    }
   },
   "id": "de3d287cb03ac321",
   "execution_count": 47
  }
 ],
 "metadata": {
  "kernelspec": {
   "display_name": "Python 3",
   "language": "python",
   "name": "python3"
  },
  "language_info": {
   "codemirror_mode": {
    "name": "ipython",
    "version": 2
   },
   "file_extension": ".py",
   "mimetype": "text/x-python",
   "name": "python",
   "nbconvert_exporter": "python",
   "pygments_lexer": "ipython2",
   "version": "2.7.6"
  }
 },
 "nbformat": 4,
 "nbformat_minor": 5
}
